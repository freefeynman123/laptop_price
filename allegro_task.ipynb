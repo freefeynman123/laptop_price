{
 "cells": [
  {
   "cell_type": "markdown",
   "metadata": {},
   "source": [
    "# Predicting price of a laptop"
   ]
  },
  {
   "cell_type": "markdown",
   "metadata": {},
   "source": [
    "# Table of contents\n",
    "1. [Introduction](#introduction)\n",
    "2. [Import](#import)\n",
    "3. [Data preprocessing](#preprocess)\n",
    "    1. [Missing values](#subpreprocess)\n",
    "4. [Correlation with dependent variable](#correlation_dependent)\n",
    "5. [Feature engineering](#feature_engineering)\n",
    "    1. [One-hot encoding](#one-hot)\n",
    "6. [Importance of variables](#importance)\n",
    "    1. [Correlation between variables with highest importance score](#correlation_importance)\n",
    "    2. [Variables selection](#variables_selection)\n",
    "7. [Scaling data](#scaling)\n",
    "8. [Train-test split](#train_test)\n",
    "9. [Base estimator - linear regression](#base_estimator)\n",
    "10. [Xgboost](#xgboost)\n",
    "11. [Summary and future plan](#summary)"
   ]
  },
  {
   "cell_type": "code",
   "execution_count": 1,
   "metadata": {},
   "outputs": [],
   "source": [
    "%load_ext autoreload\n",
    "%autoreload 2"
   ]
  },
  {
   "cell_type": "code",
   "execution_count": 163,
   "metadata": {},
   "outputs": [],
   "source": [
    "import pandas as pd\n",
    "import numpy as np\n",
    "import json\n",
    "import category_encoders as ce\n",
    "import matplotlib.pyplot as plt\n",
    "import seaborn as sns\n",
    "from sklearn.linear_model import LinearRegression\n",
    "from sklearn.model_selection import train_test_split\n",
    "from sklearn.metrics import mean_squared_error\n",
    "import xgboost as xgb\n",
    "from utils import list_to_one_hot\n",
    "from encoding import TargetEncoder\n",
    "from functools import reduce\n",
    "import hyperopt\n",
    "from hyperopt import tpe, fmin, hp, Trials, STATUS_OK\n",
    "from regressor import RegressorOptimizer\n",
    "from sklearn.model_selection import KFold\n",
    "import pickle\n",
    "import os\n",
    "import shap"
   ]
  },
  {
   "cell_type": "markdown",
   "metadata": {},
   "source": [
    "Importing data from unpacked zip file."
   ]
  },
  {
   "cell_type": "code",
   "execution_count": 3,
   "metadata": {},
   "outputs": [
    {
     "data": {
      "text/plain": [
       "Index(['buynow_price', 'rodzaj karty graficznej', 'komunikacja',\n",
       "       'rozdzielczość (piksele)', 'liczba rdzeni procesora',\n",
       "       'wielkość pamięci ram', 'system operacyjny', 'typ dysku twardego',\n",
       "       'sterowanie', 'multimedia', 'typ pamięci ram',\n",
       "       'taktowanie bazowe procesora (ghz)', 'seria procesora', 'stan',\n",
       "       'pojemność dysku (gb)', 'gwarancja', 'wielkość matrycy '],\n",
       "      dtype='object')"
      ]
     },
     "execution_count": 3,
     "metadata": {},
     "output_type": "execute_result"
    }
   ],
   "source": [
    "dataset = pd.read_json(\"dane_do_wyslania/public-dataset.json\")\n",
    "dataset_test = pd.read_json(\"dane_do_wyslania/hidden-Xs.json\")\n",
    "with open('names.json', 'r') as file:\n",
    "    names = json.load(file)\n",
    "dataset.columns"
   ]
  },
  {
   "cell_type": "markdown",
   "metadata": {},
   "source": [
    "One can see that the target variable has English names with underscores whereas the rest of them are in Polish with spaces. Since working on underscored variable names is easier and cleaner we are going to replace them with custom dictionary, translating to English at the same time to standarize language across whole notebook. The description of variables can be founf in README.md file which can be found in repository"
   ]
  },
  {
   "cell_type": "code",
   "execution_count": 4,
   "metadata": {},
   "outputs": [],
   "source": [
    "dataset.rename(columns=names, inplace=True)\n",
    "dataset_test.rename(columns=names, inplace=True)\n",
    "dataset.reset_index(inplace=True)\n",
    "dataset_test.reset_index(inplace=True)"
   ]
  },
  {
   "cell_type": "markdown",
   "metadata": {},
   "source": [
    "We will look how does the dataset looks like"
   ]
  },
  {
   "cell_type": "code",
   "execution_count": 5,
   "metadata": {},
   "outputs": [
    {
     "data": {
      "text/html": [
       "<div>\n",
       "<style scoped>\n",
       "    .dataframe tbody tr th:only-of-type {\n",
       "        vertical-align: middle;\n",
       "    }\n",
       "\n",
       "    .dataframe tbody tr th {\n",
       "        vertical-align: top;\n",
       "    }\n",
       "\n",
       "    .dataframe thead th {\n",
       "        text-align: right;\n",
       "    }\n",
       "</style>\n",
       "<table border=\"1\" class=\"dataframe\">\n",
       "  <thead>\n",
       "    <tr style=\"text-align: right;\">\n",
       "      <th></th>\n",
       "      <th>index</th>\n",
       "      <th>buynow_price</th>\n",
       "      <th>gpu_type</th>\n",
       "      <th>communication</th>\n",
       "      <th>resolution</th>\n",
       "      <th>cpu_cores</th>\n",
       "      <th>ram_size</th>\n",
       "      <th>os</th>\n",
       "      <th>hdd_type</th>\n",
       "      <th>control</th>\n",
       "      <th>multimedia</th>\n",
       "      <th>ram_type</th>\n",
       "      <th>cpu_clock</th>\n",
       "      <th>cpu_series</th>\n",
       "      <th>state</th>\n",
       "      <th>hdd_size</th>\n",
       "      <th>warranty</th>\n",
       "      <th>screen_size</th>\n",
       "    </tr>\n",
       "  </thead>\n",
       "  <tbody>\n",
       "    <tr>\n",
       "      <th>0</th>\n",
       "      <td>0</td>\n",
       "      <td>5524.0</td>\n",
       "      <td>grafika dedykowana</td>\n",
       "      <td>[bluetooth]</td>\n",
       "      <td>1920 x 1080</td>\n",
       "      <td>4</td>\n",
       "      <td>12 gb</td>\n",
       "      <td>[windows 10 home]</td>\n",
       "      <td>ssd</td>\n",
       "      <td>[klawiatura, touchpad]</td>\n",
       "      <td>[czytnik kart pamięci, kamera, głośniki]</td>\n",
       "      <td>ddr4</td>\n",
       "      <td>2.6</td>\n",
       "      <td>intel core i7</td>\n",
       "      <td>nowy</td>\n",
       "      <td>480.0</td>\n",
       "      <td>producenta</td>\n",
       "      <td>15\" - 15.9\"</td>\n",
       "    </tr>\n",
       "    <tr>\n",
       "      <th>1</th>\n",
       "      <td>10</td>\n",
       "      <td>1720.0</td>\n",
       "      <td>grafika zintegrowana</td>\n",
       "      <td>[wi-fi, bluetooth, lan 10/100 mbps]</td>\n",
       "      <td>1600 x 900</td>\n",
       "      <td>4</td>\n",
       "      <td>4 gb</td>\n",
       "      <td>[windows 10 home]</td>\n",
       "      <td>hdd</td>\n",
       "      <td>[klawiatura, touchpad, klawiatura numeryczna]</td>\n",
       "      <td>[czytnik kart pamięci, kamera, głośniki, mikro...</td>\n",
       "      <td>ddr3l</td>\n",
       "      <td>2.2</td>\n",
       "      <td>amd a8</td>\n",
       "      <td>nowy</td>\n",
       "      <td>1000.0</td>\n",
       "      <td>producenta</td>\n",
       "      <td>17\" - 17.9\"</td>\n",
       "    </tr>\n",
       "    <tr>\n",
       "      <th>2</th>\n",
       "      <td>100</td>\n",
       "      <td>2649.0</td>\n",
       "      <td>grafika zintegrowana</td>\n",
       "      <td>[wi-fi, bluetooth, lan 10/100 mbps]</td>\n",
       "      <td>1366 x 768</td>\n",
       "      <td>2</td>\n",
       "      <td>12 gb</td>\n",
       "      <td>[windows 10 home]</td>\n",
       "      <td>ssd + hdd</td>\n",
       "      <td>[klawiatura, touchpad, klawiatura numeryczna]</td>\n",
       "      <td>[czytnik kart pamięci, kamera, głośniki, mikro...</td>\n",
       "      <td>ddr4</td>\n",
       "      <td>2.3</td>\n",
       "      <td>intel core i3</td>\n",
       "      <td>nowy</td>\n",
       "      <td>1240.0</td>\n",
       "      <td>producenta</td>\n",
       "      <td>15\" - 15.9\"</td>\n",
       "    </tr>\n",
       "    <tr>\n",
       "      <th>3</th>\n",
       "      <td>1000</td>\n",
       "      <td>1199.0</td>\n",
       "      <td>grafika zintegrowana</td>\n",
       "      <td>[bluetooth]</td>\n",
       "      <td>1366 x 768</td>\n",
       "      <td>2</td>\n",
       "      <td>2 gb</td>\n",
       "      <td>[windows 10 home]</td>\n",
       "      <td>ssd</td>\n",
       "      <td>[klawiatura, touchpad]</td>\n",
       "      <td>[czytnik kart pamięci, kamera, mikrofon]</td>\n",
       "      <td>ddr3</td>\n",
       "      <td>1.6</td>\n",
       "      <td>intel celeron</td>\n",
       "      <td>nowy</td>\n",
       "      <td>128.0</td>\n",
       "      <td>producenta</td>\n",
       "      <td>11.9\" i mniej</td>\n",
       "    </tr>\n",
       "    <tr>\n",
       "      <th>4</th>\n",
       "      <td>10000</td>\n",
       "      <td>4049.0</td>\n",
       "      <td>grafika dedykowana</td>\n",
       "      <td>[lan 10/100/1000 mbps, nfc (near field communi...</td>\n",
       "      <td>1920 x 1080</td>\n",
       "      <td>2</td>\n",
       "      <td>8 gb</td>\n",
       "      <td>[windows 10 professional]</td>\n",
       "      <td>ssd</td>\n",
       "      <td>[klawiatura, touchpad]</td>\n",
       "      <td>[czytnik kart pamięci, kamera, mikrofon]</td>\n",
       "      <td>ddr4</td>\n",
       "      <td>2.7</td>\n",
       "      <td>intel core i5</td>\n",
       "      <td>nowy</td>\n",
       "      <td>256.0</td>\n",
       "      <td>producenta</td>\n",
       "      <td>15\" - 15.9\"</td>\n",
       "    </tr>\n",
       "  </tbody>\n",
       "</table>\n",
       "</div>"
      ],
      "text/plain": [
       "   index  buynow_price              gpu_type  \\\n",
       "0      0        5524.0    grafika dedykowana   \n",
       "1     10        1720.0  grafika zintegrowana   \n",
       "2    100        2649.0  grafika zintegrowana   \n",
       "3   1000        1199.0  grafika zintegrowana   \n",
       "4  10000        4049.0    grafika dedykowana   \n",
       "\n",
       "                                       communication   resolution cpu_cores  \\\n",
       "0                                        [bluetooth]  1920 x 1080         4   \n",
       "1                [wi-fi, bluetooth, lan 10/100 mbps]   1600 x 900         4   \n",
       "2                [wi-fi, bluetooth, lan 10/100 mbps]   1366 x 768         2   \n",
       "3                                        [bluetooth]   1366 x 768         2   \n",
       "4  [lan 10/100/1000 mbps, nfc (near field communi...  1920 x 1080         2   \n",
       "\n",
       "  ram_size                         os   hdd_type  \\\n",
       "0    12 gb          [windows 10 home]        ssd   \n",
       "1     4 gb          [windows 10 home]        hdd   \n",
       "2    12 gb          [windows 10 home]  ssd + hdd   \n",
       "3     2 gb          [windows 10 home]        ssd   \n",
       "4     8 gb  [windows 10 professional]        ssd   \n",
       "\n",
       "                                         control  \\\n",
       "0                         [klawiatura, touchpad]   \n",
       "1  [klawiatura, touchpad, klawiatura numeryczna]   \n",
       "2  [klawiatura, touchpad, klawiatura numeryczna]   \n",
       "3                         [klawiatura, touchpad]   \n",
       "4                         [klawiatura, touchpad]   \n",
       "\n",
       "                                          multimedia ram_type  cpu_clock  \\\n",
       "0           [czytnik kart pamięci, kamera, głośniki]     ddr4        2.6   \n",
       "1  [czytnik kart pamięci, kamera, głośniki, mikro...    ddr3l        2.2   \n",
       "2  [czytnik kart pamięci, kamera, głośniki, mikro...     ddr4        2.3   \n",
       "3           [czytnik kart pamięci, kamera, mikrofon]     ddr3        1.6   \n",
       "4           [czytnik kart pamięci, kamera, mikrofon]     ddr4        2.7   \n",
       "\n",
       "       cpu_series state  hdd_size    warranty    screen_size  \n",
       "0   intel core i7  nowy     480.0  producenta    15\" - 15.9\"  \n",
       "1          amd a8  nowy    1000.0  producenta    17\" - 17.9\"  \n",
       "2   intel core i3  nowy    1240.0  producenta    15\" - 15.9\"  \n",
       "3  intel celeron   nowy     128.0  producenta  11.9\" i mniej  \n",
       "4   intel core i5  nowy     256.0  producenta    15\" - 15.9\"  "
      ]
     },
     "execution_count": 5,
     "metadata": {},
     "output_type": "execute_result"
    }
   ],
   "source": [
    "dataset.head(5)"
   ]
  },
  {
   "cell_type": "code",
   "execution_count": 6,
   "metadata": {},
   "outputs": [
    {
     "data": {
      "text/html": [
       "<div>\n",
       "<style scoped>\n",
       "    .dataframe tbody tr th:only-of-type {\n",
       "        vertical-align: middle;\n",
       "    }\n",
       "\n",
       "    .dataframe tbody tr th {\n",
       "        vertical-align: top;\n",
       "    }\n",
       "\n",
       "    .dataframe thead th {\n",
       "        text-align: right;\n",
       "    }\n",
       "</style>\n",
       "<table border=\"1\" class=\"dataframe\">\n",
       "  <thead>\n",
       "    <tr style=\"text-align: right;\">\n",
       "      <th></th>\n",
       "      <th>index</th>\n",
       "      <th>gpu_type</th>\n",
       "      <th>communication</th>\n",
       "      <th>resolution</th>\n",
       "      <th>cpu_cores</th>\n",
       "      <th>ram_size</th>\n",
       "      <th>os</th>\n",
       "      <th>hdd_type</th>\n",
       "      <th>control</th>\n",
       "      <th>multimedia</th>\n",
       "      <th>ram_type</th>\n",
       "      <th>cpu_clock</th>\n",
       "      <th>cpu_series</th>\n",
       "      <th>state</th>\n",
       "      <th>hdd_size</th>\n",
       "      <th>warranty</th>\n",
       "      <th>screen_size</th>\n",
       "    </tr>\n",
       "  </thead>\n",
       "  <tbody>\n",
       "    <tr>\n",
       "      <th>0</th>\n",
       "      <td>1</td>\n",
       "      <td>grafika zintegrowana</td>\n",
       "      <td>None</td>\n",
       "      <td>1366 x 768</td>\n",
       "      <td>2</td>\n",
       "      <td>4 gb</td>\n",
       "      <td>[windows 8.1 professional 64-bit]</td>\n",
       "      <td>hdd</td>\n",
       "      <td>[klawiatura, touchpad]</td>\n",
       "      <td>[czytnik kart pamięci, kamera, głośniki, mikro...</td>\n",
       "      <td>None</td>\n",
       "      <td>2.4</td>\n",
       "      <td>intel core i3</td>\n",
       "      <td>nowy</td>\n",
       "      <td>500.0</td>\n",
       "      <td>producenta</td>\n",
       "      <td>15\" - 15.9\"</td>\n",
       "    </tr>\n",
       "    <tr>\n",
       "      <th>1</th>\n",
       "      <td>10002</td>\n",
       "      <td>grafika zintegrowana</td>\n",
       "      <td>[bluetooth]</td>\n",
       "      <td>1920 x 1080</td>\n",
       "      <td>2</td>\n",
       "      <td>8 gb</td>\n",
       "      <td>[windows 10 home]</td>\n",
       "      <td>ssd</td>\n",
       "      <td>[klawiatura, touchpad]</td>\n",
       "      <td>[kamera, głośniki, mikrofon]</td>\n",
       "      <td>ddr4</td>\n",
       "      <td>2.5</td>\n",
       "      <td>intel core i5</td>\n",
       "      <td>nowy</td>\n",
       "      <td>256.0</td>\n",
       "      <td>producenta</td>\n",
       "      <td>13\" - 13.9\"</td>\n",
       "    </tr>\n",
       "    <tr>\n",
       "      <th>2</th>\n",
       "      <td>10003</td>\n",
       "      <td>None</td>\n",
       "      <td>[wi-fi, bluetooth, lan 10/100 mbps]</td>\n",
       "      <td>1366 x 768</td>\n",
       "      <td>4</td>\n",
       "      <td>4 gb</td>\n",
       "      <td>[windows 7 professional 64-bit]</td>\n",
       "      <td>None</td>\n",
       "      <td>[klawiatura, touchpad, klawiatura numeryczna]</td>\n",
       "      <td>[czytnik kart pamięci, kamera, głośniki, mikro...</td>\n",
       "      <td>ddr3l</td>\n",
       "      <td>1.8</td>\n",
       "      <td>amd a6</td>\n",
       "      <td>nowy</td>\n",
       "      <td>120.0</td>\n",
       "      <td>producenta</td>\n",
       "      <td>15\" - 15.9\"</td>\n",
       "    </tr>\n",
       "    <tr>\n",
       "      <th>3</th>\n",
       "      <td>10004</td>\n",
       "      <td>grafika dedykowana</td>\n",
       "      <td>[wi-fi, bluetooth, lan 10/100 mbps]</td>\n",
       "      <td>1600 x 900</td>\n",
       "      <td>2</td>\n",
       "      <td>12 gb</td>\n",
       "      <td>[windows 10 home]</td>\n",
       "      <td>ssd</td>\n",
       "      <td>[klawiatura, touchpad, klawiatura numeryczna]</td>\n",
       "      <td>[czytnik kart pamięci, kamera, głośniki, mikro...</td>\n",
       "      <td>ddr4</td>\n",
       "      <td>2.5</td>\n",
       "      <td>intel core i5</td>\n",
       "      <td>nowy</td>\n",
       "      <td>480.0</td>\n",
       "      <td>producenta</td>\n",
       "      <td>17\" - 17.9\"</td>\n",
       "    </tr>\n",
       "    <tr>\n",
       "      <th>4</th>\n",
       "      <td>10005</td>\n",
       "      <td>grafika zintegrowana</td>\n",
       "      <td>[wi-fi, bluetooth, lan 10/100 mbps]</td>\n",
       "      <td>1366 x 768</td>\n",
       "      <td>4</td>\n",
       "      <td>8 gb</td>\n",
       "      <td>[windows 10 professional]</td>\n",
       "      <td>hdd</td>\n",
       "      <td>[klawiatura, touchpad, klawiatura numeryczna]</td>\n",
       "      <td>[czytnik kart pamięci, kamera, głośniki, mikro...</td>\n",
       "      <td>ddr3l</td>\n",
       "      <td>1.8</td>\n",
       "      <td>amd a6</td>\n",
       "      <td>nowy</td>\n",
       "      <td>1000.0</td>\n",
       "      <td>producenta</td>\n",
       "      <td>15\" - 15.9\"</td>\n",
       "    </tr>\n",
       "  </tbody>\n",
       "</table>\n",
       "</div>"
      ],
      "text/plain": [
       "   index              gpu_type                        communication  \\\n",
       "0      1  grafika zintegrowana                                 None   \n",
       "1  10002  grafika zintegrowana                          [bluetooth]   \n",
       "2  10003                  None  [wi-fi, bluetooth, lan 10/100 mbps]   \n",
       "3  10004    grafika dedykowana  [wi-fi, bluetooth, lan 10/100 mbps]   \n",
       "4  10005  grafika zintegrowana  [wi-fi, bluetooth, lan 10/100 mbps]   \n",
       "\n",
       "    resolution cpu_cores ram_size                                 os hdd_type  \\\n",
       "0   1366 x 768         2     4 gb  [windows 8.1 professional 64-bit]      hdd   \n",
       "1  1920 x 1080         2     8 gb                  [windows 10 home]      ssd   \n",
       "2   1366 x 768         4     4 gb    [windows 7 professional 64-bit]     None   \n",
       "3   1600 x 900         2    12 gb                  [windows 10 home]      ssd   \n",
       "4   1366 x 768         4     8 gb          [windows 10 professional]      hdd   \n",
       "\n",
       "                                         control  \\\n",
       "0                         [klawiatura, touchpad]   \n",
       "1                         [klawiatura, touchpad]   \n",
       "2  [klawiatura, touchpad, klawiatura numeryczna]   \n",
       "3  [klawiatura, touchpad, klawiatura numeryczna]   \n",
       "4  [klawiatura, touchpad, klawiatura numeryczna]   \n",
       "\n",
       "                                          multimedia ram_type  cpu_clock  \\\n",
       "0  [czytnik kart pamięci, kamera, głośniki, mikro...     None        2.4   \n",
       "1                       [kamera, głośniki, mikrofon]     ddr4        2.5   \n",
       "2  [czytnik kart pamięci, kamera, głośniki, mikro...    ddr3l        1.8   \n",
       "3  [czytnik kart pamięci, kamera, głośniki, mikro...     ddr4        2.5   \n",
       "4  [czytnik kart pamięci, kamera, głośniki, mikro...    ddr3l        1.8   \n",
       "\n",
       "      cpu_series state  hdd_size    warranty  screen_size  \n",
       "0  intel core i3  nowy     500.0  producenta  15\" - 15.9\"  \n",
       "1  intel core i5  nowy     256.0  producenta  13\" - 13.9\"  \n",
       "2         amd a6  nowy     120.0  producenta  15\" - 15.9\"  \n",
       "3  intel core i5  nowy     480.0  producenta  17\" - 17.9\"  \n",
       "4         amd a6  nowy    1000.0  producenta  15\" - 15.9\"  "
      ]
     },
     "execution_count": 6,
     "metadata": {},
     "output_type": "execute_result"
    }
   ],
   "source": [
    "dataset_test.head(5)"
   ]
  },
  {
   "cell_type": "code",
   "execution_count": 7,
   "metadata": {},
   "outputs": [
    {
     "name": "stdout",
     "output_type": "stream",
     "text": [
      "(7853, 18)\n",
      "(3869, 17)\n",
      "index              int64\n",
      "buynow_price     float64\n",
      "gpu_type          object\n",
      "communication     object\n",
      "resolution        object\n",
      "cpu_cores         object\n",
      "ram_size          object\n",
      "os                object\n",
      "hdd_type          object\n",
      "control           object\n",
      "multimedia        object\n",
      "ram_type          object\n",
      "cpu_clock        float64\n",
      "cpu_series        object\n",
      "state             object\n",
      "hdd_size         float64\n",
      "warranty          object\n",
      "screen_size       object\n",
      "dtype: object\n"
     ]
    }
   ],
   "source": [
    "print(dataset.shape, dataset_test.shape, dataset.dtypes, sep = '\\n')"
   ]
  },
  {
   "cell_type": "markdown",
   "metadata": {},
   "source": [
    "So, we have less than 8K records with 17 features. What we can already observe from preliminiary look at the data is the fact that most of them are categorical variables, however not all of the categories differ in the same way. \n",
    "For example \"rozdzielczość (piksele)\" and \"wielkość pamięci ram\" features have some order associated with them. Those are called ordinal features. On the other hand we have \"typ dysku twardego\" or \"sterowanie\" which are categorical features. There are also variables which can be considered purely categorical, such as \"seria procesora\", however it may be possible to tell which series of the processors have better performance in general (like superior performance of i7 series as compared to i5 series). One can think of possible arguments in AMD vs Intel competition that could be revealed during this task :)"
   ]
  },
  {
   "cell_type": "code",
   "execution_count": 8,
   "metadata": {},
   "outputs": [
    {
     "name": "stderr",
     "output_type": "stream",
     "text": [
      "/Users/lukaszbala/anaconda3/envs/allegroenv/lib/python3.6/site-packages/scipy/stats/stats.py:1713: FutureWarning: Using a non-tuple sequence for multidimensional indexing is deprecated; use `arr[tuple(seq)]` instead of `arr[seq]`. In the future this will be interpreted as an array index, `arr[np.array(seq)]`, which will result either in an error or a different result.\n",
      "  return np.add.reduce(sorted[indexer] * weights, axis=axis) / sumval\n"
     ]
    },
    {
     "data": {
      "image/png": "[encoded data removed]",
      "text/plain": [
       "<Figure size 576x576 with 1 Axes>"
      ]
     },
     "metadata": {
      "needs_background": "light"
     },
     "output_type": "display_data"
    },
    {
     "name": "stdout",
     "output_type": "stream",
     "text": [
      "Skewness: 1.1918197625049383\n",
      "Kurtosis: 2.2971867391894416\n"
     ]
    }
   ],
   "source": [
    "def plot_target_distribution(data, target_name):\n",
    "    fig, ax = plt.subplots(figsize=(8,8))\n",
    "    sns.distplot(data[target_name], kde=False)\n",
    "    ax.set_title(\"Distrubution of buynow_price - target variable\")\n",
    "    ax.ticklabel_format(style='sci', axis='both', scilimits=(-3,3))\n",
    "    plt.show()\n",
    "    skew = data[target_name].skew()\n",
    "    kurt = data[target_name].kurt()\n",
    "    print(f'Skewness: {skew}\\nKurtosis: {kurt}')\n",
    "plot_target_distribution(dataset, \"buynow_price\")"
   ]
  },
  {
   "cell_type": "markdown",
   "metadata": {},
   "source": [
    "We are going to check whether there are some missing values in dataset"
   ]
  },
  {
   "cell_type": "code",
   "execution_count": 9,
   "metadata": {},
   "outputs": [],
   "source": [
    "def missing_values(data):\n",
    "    missing = data.isnull().sum()\n",
    "    percent = data.isnull().sum()/data.isnull().count()\n",
    "    data_missing = pd.concat([missing, percent], axis=1, keys=['Total', 'Percent'], sort=True).sort_values(by='Total', ascending=False)\n",
    "    print(data_missing.head(6))\n",
    "    return data_missing"
   ]
  },
  {
   "cell_type": "markdown",
   "metadata": {},
   "source": [
    "And the plot all of these variables that contain some missing part"
   ]
  },
  {
   "cell_type": "code",
   "execution_count": 10,
   "metadata": {},
   "outputs": [],
   "source": [
    "def plot_missing_values(data_missing, title=\"Title\"):\n",
    "    fig, ax = plt.subplots(ncols=1, nrows=1, figsize=(8,6))\n",
    "    sns.barplot(data=data_missing[data_missing['Percent'] >0].reset_index(), x = 'index', \n",
    "                y='Percent')\n",
    "    plt.xticks(rotation=70)\n",
    "    plt.title(title)\n",
    "    plt.show()"
   ]
  },
  {
   "cell_type": "code",
   "execution_count": 11,
   "metadata": {},
   "outputs": [
    {
     "name": "stdout",
     "output_type": "stream",
     "text": [
      "               Total   Percent\n",
      "cpu_clock        936  0.119190\n",
      "ram_type         864  0.110022\n",
      "communication    782  0.099580\n",
      "multimedia       708  0.090157\n",
      "control          678  0.086336\n",
      "os               650  0.082771\n"
     ]
    },
    {
     "data": {
      "image/png": "[encoded data removed]",
      "text/plain": [
       "<Figure size 576x432 with 1 Axes>"
      ]
     },
     "metadata": {
      "needs_background": "light"
     },
     "output_type": "display_data"
    }
   ],
   "source": [
    "plot_missing_values(missing_values(dataset),\"Percentage of missing data by variable in training set\")"
   ]
  },
  {
   "cell_type": "code",
   "execution_count": 12,
   "metadata": {},
   "outputs": [
    {
     "name": "stdout",
     "output_type": "stream",
     "text": [
      "               Total   Percent\n",
      "cpu_clock        451  0.116568\n",
      "ram_type         415  0.107263\n",
      "communication    401  0.103644\n",
      "multimedia       356  0.092013\n",
      "control          332  0.085810\n",
      "os               322  0.083226\n"
     ]
    },
    {
     "data": {
      "image/png": "[encoded data removed]",
      "text/plain": [
       "<Figure size 576x432 with 1 Axes>"
      ]
     },
     "metadata": {
      "needs_background": "light"
     },
     "output_type": "display_data"
    }
   ],
   "source": [
    "plot_missing_values(missing_values(dataset_test),\"Percentage of missing data by variable in test set\")"
   ]
  },
  {
   "cell_type": "markdown",
   "metadata": {},
   "source": [
    "So one can see that the distribution of missing values is similar both in training and test set. Moreover, there are no missing values of target variable in our training set. We are going to split this to feature and target part then. Before we do that, we would like to see whether there are examples where majority of values are missing."
   ]
  },
  {
   "cell_type": "code",
   "execution_count": 13,
   "metadata": {},
   "outputs": [
    {
     "data": {
      "text/html": [
       "<div>\n",
       "<style scoped>\n",
       "    .dataframe tbody tr th:only-of-type {\n",
       "        vertical-align: middle;\n",
       "    }\n",
       "\n",
       "    .dataframe tbody tr th {\n",
       "        vertical-align: top;\n",
       "    }\n",
       "\n",
       "    .dataframe thead th {\n",
       "        text-align: right;\n",
       "    }\n",
       "</style>\n",
       "<table border=\"1\" class=\"dataframe\">\n",
       "  <thead>\n",
       "    <tr style=\"text-align: right;\">\n",
       "      <th></th>\n",
       "      <th>index</th>\n",
       "      <th>buynow_price</th>\n",
       "      <th>gpu_type</th>\n",
       "      <th>communication</th>\n",
       "      <th>resolution</th>\n",
       "      <th>cpu_cores</th>\n",
       "      <th>ram_size</th>\n",
       "      <th>os</th>\n",
       "      <th>hdd_type</th>\n",
       "      <th>control</th>\n",
       "      <th>multimedia</th>\n",
       "      <th>ram_type</th>\n",
       "      <th>cpu_clock</th>\n",
       "      <th>cpu_series</th>\n",
       "      <th>state</th>\n",
       "      <th>hdd_size</th>\n",
       "      <th>warranty</th>\n",
       "      <th>screen_size</th>\n",
       "    </tr>\n",
       "  </thead>\n",
       "  <tbody>\n",
       "    <tr>\n",
       "      <th>22</th>\n",
       "      <td>10035</td>\n",
       "      <td>699.0</td>\n",
       "      <td>None</td>\n",
       "      <td>None</td>\n",
       "      <td>None</td>\n",
       "      <td>2</td>\n",
       "      <td>None</td>\n",
       "      <td>None</td>\n",
       "      <td>None</td>\n",
       "      <td>None</td>\n",
       "      <td>None</td>\n",
       "      <td>None</td>\n",
       "      <td>NaN</td>\n",
       "      <td>None</td>\n",
       "      <td>nowy</td>\n",
       "      <td>NaN</td>\n",
       "      <td>sprzedawcy</td>\n",
       "      <td>None</td>\n",
       "    </tr>\n",
       "    <tr>\n",
       "      <th>51</th>\n",
       "      <td>10077</td>\n",
       "      <td>6450.0</td>\n",
       "      <td>None</td>\n",
       "      <td>None</td>\n",
       "      <td>None</td>\n",
       "      <td>nie dotyczy</td>\n",
       "      <td>None</td>\n",
       "      <td>None</td>\n",
       "      <td>None</td>\n",
       "      <td>None</td>\n",
       "      <td>None</td>\n",
       "      <td>None</td>\n",
       "      <td>NaN</td>\n",
       "      <td>None</td>\n",
       "      <td>nowy</td>\n",
       "      <td>NaN</td>\n",
       "      <td>producenta</td>\n",
       "      <td>None</td>\n",
       "    </tr>\n",
       "    <tr>\n",
       "      <th>53</th>\n",
       "      <td>1008</td>\n",
       "      <td>1589.0</td>\n",
       "      <td>None</td>\n",
       "      <td>None</td>\n",
       "      <td>None</td>\n",
       "      <td>4</td>\n",
       "      <td>None</td>\n",
       "      <td>None</td>\n",
       "      <td>None</td>\n",
       "      <td>None</td>\n",
       "      <td>None</td>\n",
       "      <td>None</td>\n",
       "      <td>NaN</td>\n",
       "      <td>None</td>\n",
       "      <td>nowy</td>\n",
       "      <td>NaN</td>\n",
       "      <td>sprzedawcy</td>\n",
       "      <td>None</td>\n",
       "    </tr>\n",
       "    <tr>\n",
       "      <th>105</th>\n",
       "      <td>10161</td>\n",
       "      <td>4194.0</td>\n",
       "      <td>None</td>\n",
       "      <td>None</td>\n",
       "      <td>None</td>\n",
       "      <td>4</td>\n",
       "      <td>None</td>\n",
       "      <td>None</td>\n",
       "      <td>None</td>\n",
       "      <td>None</td>\n",
       "      <td>None</td>\n",
       "      <td>None</td>\n",
       "      <td>NaN</td>\n",
       "      <td>None</td>\n",
       "      <td>nowy</td>\n",
       "      <td>NaN</td>\n",
       "      <td>producenta</td>\n",
       "      <td>None</td>\n",
       "    </tr>\n",
       "    <tr>\n",
       "      <th>138</th>\n",
       "      <td>10208</td>\n",
       "      <td>4690.0</td>\n",
       "      <td>None</td>\n",
       "      <td>None</td>\n",
       "      <td>None</td>\n",
       "      <td>4</td>\n",
       "      <td>None</td>\n",
       "      <td>None</td>\n",
       "      <td>None</td>\n",
       "      <td>None</td>\n",
       "      <td>None</td>\n",
       "      <td>None</td>\n",
       "      <td>NaN</td>\n",
       "      <td>None</td>\n",
       "      <td>nowy</td>\n",
       "      <td>NaN</td>\n",
       "      <td>producenta</td>\n",
       "      <td>None</td>\n",
       "    </tr>\n",
       "    <tr>\n",
       "      <th>184</th>\n",
       "      <td>10269</td>\n",
       "      <td>1099.0</td>\n",
       "      <td>None</td>\n",
       "      <td>None</td>\n",
       "      <td>None</td>\n",
       "      <td>4</td>\n",
       "      <td>None</td>\n",
       "      <td>None</td>\n",
       "      <td>None</td>\n",
       "      <td>None</td>\n",
       "      <td>None</td>\n",
       "      <td>None</td>\n",
       "      <td>NaN</td>\n",
       "      <td>None</td>\n",
       "      <td>nowy</td>\n",
       "      <td>NaN</td>\n",
       "      <td>sprzedawcy</td>\n",
       "      <td>None</td>\n",
       "    </tr>\n",
       "    <tr>\n",
       "      <th>223</th>\n",
       "      <td>10320</td>\n",
       "      <td>2868.9</td>\n",
       "      <td>None</td>\n",
       "      <td>None</td>\n",
       "      <td>None</td>\n",
       "      <td>nie dotyczy</td>\n",
       "      <td>None</td>\n",
       "      <td>None</td>\n",
       "      <td>None</td>\n",
       "      <td>None</td>\n",
       "      <td>None</td>\n",
       "      <td>None</td>\n",
       "      <td>NaN</td>\n",
       "      <td>None</td>\n",
       "      <td>nowy</td>\n",
       "      <td>NaN</td>\n",
       "      <td>producenta</td>\n",
       "      <td>None</td>\n",
       "    </tr>\n",
       "    <tr>\n",
       "      <th>243</th>\n",
       "      <td>10351</td>\n",
       "      <td>1899.0</td>\n",
       "      <td>None</td>\n",
       "      <td>None</td>\n",
       "      <td>None</td>\n",
       "      <td>2</td>\n",
       "      <td>None</td>\n",
       "      <td>None</td>\n",
       "      <td>None</td>\n",
       "      <td>None</td>\n",
       "      <td>None</td>\n",
       "      <td>None</td>\n",
       "      <td>NaN</td>\n",
       "      <td>None</td>\n",
       "      <td>nowy</td>\n",
       "      <td>NaN</td>\n",
       "      <td>producenta</td>\n",
       "      <td>None</td>\n",
       "    </tr>\n",
       "    <tr>\n",
       "      <th>296</th>\n",
       "      <td>10423</td>\n",
       "      <td>1599.0</td>\n",
       "      <td>None</td>\n",
       "      <td>None</td>\n",
       "      <td>None</td>\n",
       "      <td>2</td>\n",
       "      <td>None</td>\n",
       "      <td>None</td>\n",
       "      <td>None</td>\n",
       "      <td>None</td>\n",
       "      <td>None</td>\n",
       "      <td>None</td>\n",
       "      <td>NaN</td>\n",
       "      <td>None</td>\n",
       "      <td>nowy</td>\n",
       "      <td>NaN</td>\n",
       "      <td>producenta</td>\n",
       "      <td>None</td>\n",
       "    </tr>\n",
       "    <tr>\n",
       "      <th>298</th>\n",
       "      <td>10428</td>\n",
       "      <td>8649.0</td>\n",
       "      <td>None</td>\n",
       "      <td>None</td>\n",
       "      <td>None</td>\n",
       "      <td>2</td>\n",
       "      <td>None</td>\n",
       "      <td>None</td>\n",
       "      <td>None</td>\n",
       "      <td>None</td>\n",
       "      <td>None</td>\n",
       "      <td>None</td>\n",
       "      <td>NaN</td>\n",
       "      <td>None</td>\n",
       "      <td>nowy</td>\n",
       "      <td>NaN</td>\n",
       "      <td>producenta</td>\n",
       "      <td>None</td>\n",
       "    </tr>\n",
       "  </tbody>\n",
       "</table>\n",
       "</div>"
      ],
      "text/plain": [
       "     index  buynow_price gpu_type communication resolution    cpu_cores  \\\n",
       "22   10035         699.0     None          None       None            2   \n",
       "51   10077        6450.0     None          None       None  nie dotyczy   \n",
       "53    1008        1589.0     None          None       None            4   \n",
       "105  10161        4194.0     None          None       None            4   \n",
       "138  10208        4690.0     None          None       None            4   \n",
       "184  10269        1099.0     None          None       None            4   \n",
       "223  10320        2868.9     None          None       None  nie dotyczy   \n",
       "243  10351        1899.0     None          None       None            2   \n",
       "296  10423        1599.0     None          None       None            2   \n",
       "298  10428        8649.0     None          None       None            2   \n",
       "\n",
       "    ram_size    os hdd_type control multimedia ram_type  cpu_clock cpu_series  \\\n",
       "22      None  None     None    None       None     None        NaN       None   \n",
       "51      None  None     None    None       None     None        NaN       None   \n",
       "53      None  None     None    None       None     None        NaN       None   \n",
       "105     None  None     None    None       None     None        NaN       None   \n",
       "138     None  None     None    None       None     None        NaN       None   \n",
       "184     None  None     None    None       None     None        NaN       None   \n",
       "223     None  None     None    None       None     None        NaN       None   \n",
       "243     None  None     None    None       None     None        NaN       None   \n",
       "296     None  None     None    None       None     None        NaN       None   \n",
       "298     None  None     None    None       None     None        NaN       None   \n",
       "\n",
       "    state  hdd_size    warranty screen_size  \n",
       "22   nowy       NaN  sprzedawcy        None  \n",
       "51   nowy       NaN  producenta        None  \n",
       "53   nowy       NaN  sprzedawcy        None  \n",
       "105  nowy       NaN  producenta        None  \n",
       "138  nowy       NaN  producenta        None  \n",
       "184  nowy       NaN  sprzedawcy        None  \n",
       "223  nowy       NaN  producenta        None  \n",
       "243  nowy       NaN  producenta        None  \n",
       "296  nowy       NaN  producenta        None  \n",
       "298  nowy       NaN  producenta        None  "
      ]
     },
     "execution_count": 13,
     "metadata": {},
     "output_type": "execute_result"
    }
   ],
   "source": [
    "missing = dataset.loc[dataset.isnull().sum(axis=1)/dataset.shape[1] > 0.70, :]\n",
    "missing.head(10)"
   ]
  },
  {
   "cell_type": "code",
   "execution_count": 14,
   "metadata": {},
   "outputs": [
    {
     "data": {
      "text/plain": [
       "index              0\n",
       "buynow_price       0\n",
       "gpu_type         255\n",
       "communication    255\n",
       "resolution       255\n",
       "cpu_cores          0\n",
       "ram_size         255\n",
       "os               255\n",
       "hdd_type         255\n",
       "control          255\n",
       "multimedia       255\n",
       "ram_type         255\n",
       "cpu_clock        255\n",
       "cpu_series       255\n",
       "state              0\n",
       "hdd_size         255\n",
       "warranty           0\n",
       "screen_size      255\n",
       "dtype: int64"
      ]
     },
     "execution_count": 14,
     "metadata": {},
     "output_type": "execute_result"
    }
   ],
   "source": [
    "missing.isnull().sum()"
   ]
  },
  {
   "cell_type": "markdown",
   "metadata": {},
   "source": [
    "There are 255 examples with missing values higher than 70%. Moreover we can see that besides state of the laptop and warranty type there is not much in this part of dataset. During this inspection another interesting thing about this dataset occured - some of the fields with number of cpu_cores are assigned as \"nie dotyczy\". We are going to treat them as missing values in our later analysis. We are also going to remove these examples from the dataset."
   ]
  },
  {
   "cell_type": "code",
   "execution_count": 15,
   "metadata": {},
   "outputs": [],
   "source": [
    "dataset = dataset.loc[~dataset['index'].isin(missing['index']), :]"
   ]
  },
  {
   "cell_type": "code",
   "execution_count": 16,
   "metadata": {},
   "outputs": [],
   "source": [
    "dataset_X = dataset.loc[:, dataset.columns != 'buynow_price']\n",
    "dataset_Y = dataset.loc[:,'buynow_price']"
   ]
  },
  {
   "cell_type": "markdown",
   "metadata": {},
   "source": [
    "## Comparing distribution of features of training and test test"
   ]
  },
  {
   "cell_type": "markdown",
   "metadata": {},
   "source": [
    "When one wants to predict a value of certain variable, we should make sure that distrubtion from all datasets that are used are coming from the same distribution. We are going to use Population Stability Index in order to verify whether these two samples come from similar distribution"
   ]
  },
  {
   "cell_type": "code",
   "execution_count": null,
   "metadata": {},
   "outputs": [],
   "source": []
  },
  {
   "cell_type": "markdown",
   "metadata": {},
   "source": [
    "## Detecting outliers"
   ]
  },
  {
   "cell_type": "markdown",
   "metadata": {},
   "source": [
    "## Imputing missing values"
   ]
  },
  {
   "cell_type": "markdown",
   "metadata": {},
   "source": [
    "So now when we can further inspect missing values in our samples"
   ]
  },
  {
   "cell_type": "markdown",
   "metadata": {},
   "source": [
    "Given the fact that some of the parameters that are encourted in our analysis are almost surely found in any new laptop found on the market and where is a significant number of missing cases for these values"
   ]
  },
  {
   "cell_type": "markdown",
   "metadata": {},
   "source": [
    "There is also a possibility that some of the used laptops being sold can be on the market as, for example, to obtain parts from them and as such may not have such thind as a hard drive or CPU. We are going to check how many of the laptops that have some missing parts are actually used"
   ]
  },
  {
   "cell_type": "code",
   "execution_count": 17,
   "metadata": {},
   "outputs": [
    {
     "data": {
      "text/plain": [
       "1.0"
      ]
     },
     "execution_count": 17,
     "metadata": {},
     "output_type": "execute_result"
    }
   ],
   "source": [
    "nan_ram_state = dataset.loc[dataset[\"ram_type\"].isnull(), :]['state']\n",
    "sum(nan_ram_state == 'nowy')/(len(nan_ram_state))"
   ]
  },
  {
   "cell_type": "markdown",
   "metadata": {},
   "source": [
    "Ok, so this theory didn't work - so we should impute those missing values in some way"
   ]
  },
  {
   "cell_type": "markdown",
   "metadata": {},
   "source": [
    "## Encoding of categorical variables"
   ]
  },
  {
   "cell_type": "markdown",
   "metadata": {},
   "source": [
    "We are going to unlist operational system, as there is only one value per each row, to later encode this variable. Moreover we are going to change size of RAM memory to numerical variable and state of the laptop to binary one."
   ]
  },
  {
   "cell_type": "code",
   "execution_count": 18,
   "metadata": {},
   "outputs": [
    {
     "name": "stderr",
     "output_type": "stream",
     "text": [
      "/Users/lukaszbala/anaconda3/envs/allegroenv/lib/python3.6/site-packages/pandas/core/indexing.py:543: SettingWithCopyWarning: \n",
      "A value is trying to be set on a copy of a slice from a DataFrame.\n",
      "Try using .loc[row_indexer,col_indexer] = value instead\n",
      "\n",
      "See the caveats in the documentation: http://pandas.pydata.org/pandas-docs/stable/indexing.html#indexing-view-versus-copy\n",
      "  self.obj[item] = s\n",
      "/Users/lukaszbala/anaconda3/envs/allegroenv/lib/python3.6/site-packages/pandas/core/generic.py:5890: SettingWithCopyWarning: \n",
      "A value is trying to be set on a copy of a slice from a DataFrame\n",
      "\n",
      "See the caveats in the documentation: http://pandas.pydata.org/pandas-docs/stable/indexing.html#indexing-view-versus-copy\n",
      "  self._update_inplace(new_data)\n"
     ]
    }
   ],
   "source": [
    "dataset_X.loc[:,'os'] = dataset_X['os'].apply(lambda x: x[0] if x is not None else x)\n",
    "dataset_X.loc[:, 'ram_size'] = dataset_X['ram_size'].apply(lambda x: float(x.split()[0]) if x is not None else x)\n",
    "dataset_X.loc[:, 'cpu_cores'].replace(to_replace = ['nie dotyczy'], value = [None], inplace=True)\n",
    "dataset_X.loc[:, 'cpu_cores'] = dataset_X['cpu_cores'].apply(lambda x: float(x) if x is not None else x)"
   ]
  },
  {
   "cell_type": "markdown",
   "metadata": {},
   "source": [
    "Since all variables that from preliminiary inpection contained list-type objects posses some information about additional items or features (like bluetooth or keyboard) we are going to treat them as one-hot encoded variables."
   ]
  },
  {
   "cell_type": "code",
   "execution_count": 143,
   "metadata": {},
   "outputs": [],
   "source": [
    "list_type_variables = ['communication', 'control', 'multimedia']\n",
    "one_hot = [list_to_one_hot(dataset_X, var, 'index') for var in list_type_variables]\n",
    "dataset_X_en_temp = reduce(lambda left,right: pd.merge(left,right,on='index', how='left'), [dataset_X, *one_hot])\n",
    "dataset_X_en_temp = dataset_X_en_temp[dataset_X_en_temp.columns.difference([*list_type_variables, 'index'])]"
   ]
  },
  {
   "cell_type": "markdown",
   "metadata": {},
   "source": [
    "From remaining categorical featues we are going to extract values from target encoding"
   ]
  },
  {
   "cell_type": "code",
   "execution_count": 144,
   "metadata": {},
   "outputs": [],
   "source": [
    "names_trans = [\"gpu_type\", \"resolution\", \"hdd_type\", \"ram_type\", \"cpu_series\", \n",
    "               \"state\", \"warranty\", \"screen_size\", \"os\"]"
   ]
  },
  {
   "cell_type": "code",
   "execution_count": 145,
   "metadata": {},
   "outputs": [],
   "source": [
    "target_encoder = TargetEncoder(columns=names_trans, nan_as_category=False, cv=5, inner_cv=3)"
   ]
  },
  {
   "cell_type": "code",
   "execution_count": 146,
   "metadata": {},
   "outputs": [
    {
     "name": "stderr",
     "output_type": "stream",
     "text": [
      "/Users/lukaszbala/anaconda3/envs/allegroenv/lib/python3.6/site-packages/pandas/core/series.py:842: FutureWarning: \n",
      "Passing list-likes to .loc or [] with any missing label will raise\n",
      "KeyError in the future, you can use .reindex() as an alternative.\n",
      "\n",
      "See the documentation here:\n",
      "https://pandas.pydata.org/pandas-docs/stable/indexing.html#deprecate-loc-reindex-listlike\n",
      "  return self.loc[key]\n"
     ]
    }
   ],
   "source": [
    "dataset_X_en = target_encoder.fit_transform(dataset_X_en_temp, dataset_Y)\n",
    "for var in names_trans:\n",
    "    dataset_X_en.loc[:, var] = dataset_X_en[var].apply(lambda x: float(x) if x is not None else x)\n",
    "del(dataset_X_en_temp)"
   ]
  },
  {
   "cell_type": "markdown",
   "metadata": {},
   "source": [
    "## Training and validation split"
   ]
  },
  {
   "cell_type": "markdown",
   "metadata": {},
   "source": [
    "Since we would prefer not to overfit our model, we are going to split our training set into training and validation set. We are going to use standard 80/20 ratio, since then our training set will still be bigger than test set and validation set is going to have about 40% of number of records from test set, so the proportions of records are within reasonable range."
   ]
  },
  {
   "cell_type": "markdown",
   "metadata": {},
   "source": [
    "## Linear regression"
   ]
  },
  {
   "cell_type": "code",
   "execution_count": null,
   "metadata": {},
   "outputs": [],
   "source": [
    "Firslty we are going to perform the simplest form of linear regression"
   ]
  },
  {
   "cell_type": "code",
   "execution_count": null,
   "metadata": {},
   "outputs": [],
   "source": [
    "def rmse(y_true, y_pred):\n",
    "    mse = np.mean((y_pred - y_true)** 2)\n",
    "    return np.sqrt(mse)"
   ]
  },
  {
   "cell_type": "code",
   "execution_count": 197,
   "metadata": {},
   "outputs": [],
   "source": [
    "dataset_X_en_pre = dataset_X_en.apply(lambda x: x.fillna(x.mean()),axis=0)"
   ]
  },
  {
   "cell_type": "code",
   "execution_count": 200,
   "metadata": {},
   "outputs": [],
   "source": [
    "X_train_pre, X_val_pre, Y_train_pre, Y_val_pre = train_test_split(dataset_X_en_pre, dataset_Y, \n",
    "                                                          test_size=0.2, random_state=42)"
   ]
  },
  {
   "cell_type": "code",
   "execution_count": 201,
   "metadata": {},
   "outputs": [],
   "source": [
    "lr = LinearRegression()"
   ]
  },
  {
   "cell_type": "code",
   "execution_count": 202,
   "metadata": {},
   "outputs": [
    {
     "data": {
      "text/plain": [
       "LinearRegression(copy_X=True, fit_intercept=True, n_jobs=None,\n",
       "         normalize=False)"
      ]
     },
     "execution_count": 202,
     "metadata": {},
     "output_type": "execute_result"
    }
   ],
   "source": [
    "lr.fit(X_train_pre, Y_train_pre)b"
   ]
  },
  {
   "cell_type": "code",
   "execution_count": 204,
   "metadata": {},
   "outputs": [],
   "source": [
    "pred = lr.predict(X_val_pre)"
   ]
  },
  {
   "cell_type": "code",
   "execution_count": 205,
   "metadata": {},
   "outputs": [
    {
     "data": {
      "text/plain": [
       "1018.3113762189154"
      ]
     },
     "execution_count": 205,
     "metadata": {},
     "output_type": "execute_result"
    }
   ],
   "source": [
    "rmse(pred, Y_val)"
   ]
  },
  {
   "cell_type": "markdown",
   "metadata": {},
   "source": [
    "## Xgboost"
   ]
  },
  {
   "cell_type": "code",
   "execution_count": null,
   "metadata": {},
   "outputs": [],
   "source": [
    "X_train, X_val, Y_train, Y_val = train_test_split(dataset_X_en, dataset_Y, test_size=0.2, random_state=42)"
   ]
  },
  {
   "cell_type": "markdown",
   "metadata": {},
   "source": [
    "Without hyperparameter tuning"
   ]
  },
  {
   "cell_type": "code",
   "execution_count": 165,
   "metadata": {},
   "outputs": [],
   "source": [
    "xgbr = xgb.XGBRegressor()"
   ]
  },
  {
   "cell_type": "code",
   "execution_count": 166,
   "metadata": {},
   "outputs": [
    {
     "name": "stderr",
     "output_type": "stream",
     "text": [
      "/Users/lukaszbala/anaconda3/envs/allegroenv/lib/python3.6/site-packages/xgboost/core.py:587: FutureWarning: Series.base is deprecated and will be removed in a future version\n",
      "  if getattr(data, 'base', None) is not None and \\\n"
     ]
    },
    {
     "data": {
      "text/plain": [
       "XGBRegressor(base_score=0.5, booster='gbtree', colsample_bylevel=1,\n",
       "       colsample_bytree=1, gamma=0, importance_type='gain',\n",
       "       learning_rate=0.1, max_delta_step=0, max_depth=3,\n",
       "       min_child_weight=1, missing=None, n_estimators=100, n_jobs=1,\n",
       "       nthread=None, objective='reg:linear', random_state=0, reg_alpha=0,\n",
       "       reg_lambda=1, scale_pos_weight=1, seed=None, silent=True,\n",
       "       subsample=1)"
      ]
     },
     "execution_count": 166,
     "metadata": {},
     "output_type": "execute_result"
    }
   ],
   "source": [
    "xgbr.fit(X_train, Y_train)"
   ]
  },
  {
   "cell_type": "code",
   "execution_count": 167,
   "metadata": {},
   "outputs": [],
   "source": [
    "pred = xgbr.predict(X_val)"
   ]
  },
  {
   "cell_type": "code",
   "execution_count": 169,
   "metadata": {},
   "outputs": [
    {
     "data": {
      "text/plain": [
       "687.6176661974135"
      ]
     },
     "execution_count": 169,
     "metadata": {},
     "output_type": "execute_result"
    }
   ],
   "source": [
    "rmse(pred, Y_val)"
   ]
  },
  {
   "cell_type": "markdown",
   "metadata": {},
   "source": [
    "With hyperparameter tuning"
   ]
  },
  {
   "cell_type": "code",
   "execution_count": 174,
   "metadata": {},
   "outputs": [],
   "source": [
    "EXPERIMENT_NAME = 'xgboost_first'"
   ]
  },
  {
   "cell_type": "code",
   "execution_count": 175,
   "metadata": {},
   "outputs": [],
   "source": [
    "space = {\n",
    "        'max_depth': hp.choice(\"max_depth\", range(1, 13, 1)),\n",
    "        'min_child_weight': hp.quniform ('min_child', 1, 10, 1),\n",
    "        'subsample': hp.uniform ('subsample', 0.7, 1),\n",
    "        'gamma' : hp.uniform ('gamma', 0.,0.5),\n",
    "        'colsample_bytree' : hp.uniform ('colsample_bytree', 0.4,1),\n",
    "        'reg_lambda' : hp.uniform ('reg_lambda', 0,1),\n",
    "        'colsample_bylevel': hp.uniform('colsample_bylevel',0.4,1),\n",
    "        'colsample_bynode' : hp.uniform('colsample_bynode',0.4,1),\n",
    "        'reg_alpha': hp.uniform('reg_alpha',0,1)\n",
    "        }"
   ]
  },
  {
   "cell_type": "code",
   "execution_count": 176,
   "metadata": {},
   "outputs": [],
   "source": [
    "reg_optim = RegressorOptimizer(\n",
    "    regressor=xgbr,\n",
    "    space=space,\n",
    "    metric=rmse\n",
    ")"
   ]
  },
  {
   "cell_type": "markdown",
   "metadata": {},
   "source": [
    "We are going to make sure that our model is not overfitting by adding penalty value in cases, where prediction on validation set has more than 30% higher rmse than in case of training set. We added this penalty due to the fact that on previous training of this model we observed that it has great tendency to overfit."
   ]
  },
  {
   "cell_type": "code",
   "execution_count": 177,
   "metadata": {},
   "outputs": [
    {
     "name": "stdout",
     "output_type": "stream",
     "text": [
      "Train: 474.9976, valid: 625.8414                      \n",
      "Train: 258.2320, valid: 585.1170                                              \n",
      "Train: 198.5055, valid: 576.5448                                              \n",
      "Train: 474.0071, valid: 628.6429                                              \n",
      "Train: 586.2593, valid: 669.2304                                              \n",
      "Train: 236.7512, valid: 582.3507                                              \n",
      "Train: 422.7674, valid: 607.1350                                              \n",
      "Train: 912.5823, valid: 919.5632                                              \n",
      "Train: 913.1081, valid: 918.8173                                              \n",
      "Train: 448.7255, valid: 633.4866                                              \n",
      "Train: 758.8036, valid: 791.1118                                               \n",
      "Train: 684.8967, valid: 740.1048                                               \n",
      "Train: 313.2832, valid: 579.4504                                               \n",
      "Train: 297.2568, valid: 573.3299                                               \n",
      "Train: 243.7377, valid: 571.8017                                               \n",
      "Train: 362.0441, valid: 598.8535                                               \n",
      "Train: 387.1850, valid: 593.3960                                               \n",
      "Train: 246.3910, valid: 580.6955                                               \n",
      "Train: 391.2317, valid: 592.6484                                               \n",
      "Train: 353.2589, valid: 595.3688                                               \n",
      "Train: 568.9842, valid: 666.2654                                               \n",
      "Train: 571.3446, valid: 670.2739                                               \n",
      "Train: 561.7179, valid: 655.7286                                               \n",
      "Train: 556.3277, valid: 658.1989                                               \n",
      "Train: 554.1401, valid: 660.7596                                               \n",
      "Train: 572.1341, valid: 664.0933                                               \n",
      "Train: 278.2849, valid: 595.3761                                               \n",
      "Train: 550.7070, valid: 658.1389                                               \n",
      "Train: 351.0027, valid: 584.3463                                               \n",
      "Train: 647.4895, valid: 710.1157                                               \n",
      "Train: 298.7185, valid: 580.1086                                               \n",
      "Train: 756.0735, valid: 789.4357                                               \n",
      "Train: 503.1630, valid: 637.7490                                               \n",
      "Train: 491.7781, valid: 639.0105                                               \n",
      "Train: 486.1054, valid: 633.2550                                               \n",
      "Train: 504.4572, valid: 645.3625                                               \n",
      "Train: 525.6158, valid: 655.9108                                               \n",
      "Train: 279.3082, valid: 596.2541                                               \n",
      "Train: 478.4869, valid: 632.5071                                               \n",
      "Train: 540.5160, valid: 655.1147                                               \n",
      "Train: 481.3046, valid: 627.3634                                               \n",
      "Train: 913.1359, valid: 920.3319                                               \n",
      "Train: 193.8158, valid: 590.3557                                               \n",
      "Train: 227.0172, valid: 583.3021                                               \n",
      "Train: 613.9765, valid: 720.4933                                               \n",
      "Train: 237.9981, valid: 579.2703                                               \n",
      "Train: 643.3485, valid: 710.7321                                               \n",
      "Train: 775.6605, valid: 808.2451                                               \n",
      "Train: 376.9751, valid: 592.4878                                               \n",
      "Train: 507.6051, valid: 652.3054                                               \n",
      "Train: 385.7542, valid: 594.2779                                               \n",
      "Train: 345.2419, valid: 603.2752                                               \n",
      "Train: 904.9796, valid: 912.7029                                               \n",
      "Train: 260.5595, valid: 573.5599                                               \n",
      "Train: 302.5405, valid: 602.5676                                               \n",
      "Train: 536.6277, valid: 659.8894                                               \n",
      "Train: 202.3211, valid: 589.8632                                               \n",
      "Train: 158.0381, valid: 579.7472                                               \n",
      "Train: 768.5330, valid: 797.5237                                               \n",
      "Train: 644.5989, valid: 705.7551                                               \n",
      "Train: 437.2774, valid: 613.8572                                               \n",
      "Train: 321.0668, valid: 583.3774                                               \n",
      "Train: 382.9636, valid: 601.5464                                               \n",
      "Train: 501.4335, valid: 639.3737                                               \n",
      "Train: 358.1315, valid: 592.3582                                               \n",
      "Train: 506.3277, valid: 641.5276                                               \n",
      "Train: 497.9777, valid: 638.4750                                               \n",
      "Train: 477.2291, valid: 625.9076                                               \n",
      "Train: 506.9127, valid: 640.3242                                               \n",
      "Train: 471.6326, valid: 623.7388                                               \n",
      "Train: 904.6279, valid: 911.1960                                               \n",
      "Train: 491.7954, valid: 626.7633                                               \n",
      "Train: 271.8407, valid: 579.8101                                               \n",
      "Train: 324.6141, valid: 590.9898                                               \n",
      "Train: 491.6578, valid: 629.7321                                               \n",
      "Train: 254.4883, valid: 587.4642                                               \n",
      "Train: 504.0988, valid: 638.9191                                                 \n",
      "Train: 645.9165, valid: 712.4905                                                 \n",
      "Train: 759.0434, valid: 792.0764                                               \n",
      "Train: 396.2997, valid: 601.6056                                               \n",
      "Train: 315.1682, valid: 588.2557                                               \n",
      "Train: 498.9666, valid: 630.8450                                               \n",
      "Train: 435.2386, valid: 609.8114                                               \n",
      "Train: 372.3424, valid: 599.3300                                               \n",
      "Train: 905.8062, valid: 912.2352                                               \n",
      "Train: 490.2350, valid: 631.9443                                               \n",
      "Train: 562.4691, valid: 664.0898                                               \n",
      "Train: 510.5674, valid: 642.3285                                               \n",
      "Train: 279.7069, valid: 587.7336                                               \n",
      "Train: 291.8003, valid: 578.7678                                               \n",
      "Train: 246.0154, valid: 581.8585                                                 \n",
      "Train: 491.1265, valid: 632.4993                                                 \n",
      "Train: 654.5358, valid: 717.3613                                                 \n",
      "Train: 752.6755, valid: 783.8499                                                 \n",
      "Train: 392.5634, valid: 595.1678                                               \n",
      "Train: 329.9066, valid: 583.3814                                               \n",
      "Train: 437.8621, valid: 611.8199                                               \n",
      "Train: 497.3603, valid: 629.3287                                               \n",
      "Train: 333.3738, valid: 594.1785                                               \n",
      "Train: 568.8909, valid: 663.9155                                               \n",
      "Train: 487.3049, valid: 625.2815                                                \n",
      "Train: 908.1788, valid: 914.7506                                                \n"
     ]
    },
    {
     "name": "stdout",
     "output_type": "stream",
     "text": [
      "Train: 490.4895, valid: 628.0333                                                \n",
      "Train: 247.9495, valid: 576.3075                                                \n",
      "Train: 259.9991, valid: 578.9462                                                \n",
      "Train: 489.5319, valid: 636.9553                                                \n",
      "Train: 267.7959, valid: 577.9382                                                \n",
      "Train: 647.2716, valid: 712.2925                                                \n",
      "Train: 481.2709, valid: 627.2923                                                \n",
      "Train: 758.2958, valid: 790.3239                                                \n",
      "Train: 370.8800, valid: 590.5425                                                \n",
      "Train: 427.6791, valid: 607.3047                                                \n",
      "Train: 489.0968, valid: 627.3058                                                \n",
      "Train: 310.0827, valid: 586.9347                                                \n",
      "Train: 297.6581, valid: 580.1017                                                \n",
      "Train: 560.0463, valid: 661.9187                                                \n",
      "Train: 900.6930, valid: 907.6475                                                \n",
      "Train: 491.0399, valid: 629.6185                                                \n",
      "Train: 493.2899, valid: 629.4028                                                \n",
      "Train: 234.4354, valid: 570.9727                                                \n",
      "Train: 246.0286, valid: 579.3977                                                \n",
      "Train: 181.2064, valid: 580.9017                                                \n",
      "Train: 494.4640, valid: 629.0899                                                  \n",
      "Train: 752.5987, valid: 784.2376                                                  \n",
      "Train: 427.7684, valid: 608.4305                                                \n",
      "Train: 658.3682, valid: 721.8897                                                \n",
      "Train: 335.8362, valid: 591.3416                                                \n",
      "Train: 487.8122, valid: 630.7487                                                \n",
      "Train: 314.3101, valid: 586.6997                                                \n",
      "Train: 572.2822, valid: 663.3545                                                \n",
      "Train: 309.3143, valid: 576.6865                                                \n",
      "Train: 485.2631, valid: 626.1957                                                \n",
      "Train: 905.6181, valid: 912.6776                                                \n",
      "Train: 510.2227, valid: 636.9670                                                \n",
      "Train: 293.6231, valid: 580.3492                                                \n",
      "Train: 301.5761, valid: 592.0644                                                \n",
      "Train: 502.9500, valid: 638.9907                                                \n",
      "Train: 195.3254, valid: 585.7364                                                \n",
      "Train: 706.8884, valid: 753.0246                                                  \n",
      "Train: 757.7768, valid: 790.2665                                                  \n",
      "Train: 416.4234, valid: 602.7189                                                \n",
      "Train: 480.8999, valid: 625.3964                                                \n",
      "Train: 429.6773, valid: 610.6437                                                \n",
      "Train: 287.9565, valid: 582.7184                                                \n",
      "Train: 363.3844, valid: 588.9488                                                \n",
      "Train: 491.2964, valid: 627.2369                                                \n",
      "Train: 489.4418, valid: 625.6114                                                \n",
      "Train: 493.1316, valid: 628.5628                                                \n",
      "Train: 496.6673, valid: 634.4975                                                \n",
      "Train: 488.0336, valid: 632.8421                                                \n",
      "Train: 486.1371, valid: 625.9740                                                \n",
      "Train: 490.1843, valid: 630.3374                                                \n",
      "Train: 483.4221, valid: 628.8139                                                \n",
      "Train: 562.2190, valid: 664.0565                                                \n",
      "Train: 898.2219, valid: 904.6009                                                \n",
      "Train: 488.5473, valid: 629.3316                                                \n",
      "Train: 494.0644, valid: 627.3866                                                \n",
      "Train: 263.6267, valid: 582.9471                                                \n",
      "Train: 204.2332, valid: 584.9268                                                \n",
      "Train: 474.3467, valid: 628.4319                                                \n",
      "Train: 270.3338, valid: 577.1505                                                \n",
      "Train: 657.9546, valid: 714.2129                                                  \n",
      "Train: 387.6098, valid: 591.8661                                                  \n",
      "Train: 757.9530, valid: 790.7022                                                \n",
      "Train: 481.6299, valid: 625.4252                                                \n",
      "Train: 416.5662, valid: 603.7816                                                \n",
      "Train: 244.5601, valid: 579.7766                                                \n",
      "Train: 480.3365, valid: 626.0331                                                \n",
      "Train: 313.3762, valid: 588.5028                                                \n",
      "Train: 910.3671, valid: 916.6049                                                \n",
      "Train: 471.2347, valid: 615.9693                                                \n",
      "Train: 552.3981, valid: 662.6598                                                \n",
      "Train: 251.6505, valid: 577.6956                                                \n",
      "Train: 486.0625, valid: 627.7594                                                \n",
      "Train: 181.5175, valid: 579.7917                                                \n",
      "Train: 482.0829, valid: 622.1229                                                \n",
      "Train: 169.1278, valid: 574.2953                                                \n",
      "Train: 648.2679, valid: 713.7332                                                \n",
      "Train: 764.1802, valid: 794.8014                                                \n",
      "Train: 362.3042, valid: 586.1862                                                \n",
      "Train: 426.2182, valid: 610.3855                                                \n",
      "Train: 482.9819, valid: 623.6163                                                \n",
      "Train: 304.3512, valid: 578.1342                                                \n",
      "Train: 241.3538, valid: 573.7371                                                \n",
      "Train: 505.2746, valid: 640.9391                                                \n",
      "Train: 569.3349, valid: 667.0203                                                \n",
      "Train: 501.7691, valid: 641.8510                                                \n",
      "Train: 898.8887, valid: 904.4225                                                \n",
      "Train: 484.9838, valid: 623.0537                                                \n",
      "Train: 186.5312, valid: 569.9100                                                \n",
      "Train: 197.7111, valid: 578.3426                                                \n",
      "Train: 492.9864, valid: 634.3846                                                \n",
      "Train: 135.1451, valid: 577.8488                                                \n",
      "Train: 660.6997, valid: 726.6596                                                \n",
      "Train: 762.4866, valid: 797.3523                                                \n",
      "Train: 502.6672, valid: 643.0780                                                \n",
      "Train: 351.9894, valid: 598.6149                                                \n",
      "Train: 408.1536, valid: 609.1484                                                \n",
      " 10%|▉         | 198/2000 [04:20<32:14,  1.07s/it, best loss: 622.1229135947316]\n"
     ]
    }
   ],
   "source": [
    "reg_optim.find_best_params(\n",
    "    X_train.values,\n",
    "    Y_train.values,\n",
    "    experiments_path='../experiments/',\n",
    "    experiments_name=EXPERIMENT_NAME,\n",
    "    max_evals=2000,\n",
    "    overfit_penalty=0.3\n",
    ")"
   ]
  },
  {
   "cell_type": "code",
   "execution_count": 178,
   "metadata": {},
   "outputs": [],
   "source": [
    "trials = pickle.load(open(os.path.join(experiments_path, '.'.join([EXPERIMENT_NAME, 'hpopt'])), 'rb'))"
   ]
  },
  {
   "cell_type": "markdown",
   "metadata": {},
   "source": [
    "Extracting hyperparameters from the best trial"
   ]
  },
  {
   "cell_type": "code",
   "execution_count": 179,
   "metadata": {},
   "outputs": [],
   "source": [
    "params = reg_optim.space_eval(trials.best_trial)"
   ]
  },
  {
   "cell_type": "code",
   "execution_count": 180,
   "metadata": {},
   "outputs": [],
   "source": [
    "xgbr_hp = xgb.XGBRegressor(**params)"
   ]
  },
  {
   "cell_type": "code",
   "execution_count": 181,
   "metadata": {},
   "outputs": [
    {
     "data": {
      "text/plain": [
       "XGBRegressor(base_score=0.5, booster='gbtree',\n",
       "       colsample_bylevel=0.8116617185206049,\n",
       "       colsample_bynode=0.6169339338523038,\n",
       "       colsample_bytree=0.850289030002021, gamma=7.648387402377221e-05,\n",
       "       importance_type='gain', learning_rate=0.1, max_delta_step=0,\n",
       "       max_depth=5, min_child_weight=7.0, missing=None, n_estimators=100,\n",
       "       n_jobs=1, nthread=None, objective='reg:linear', random_state=0,\n",
       "       reg_alpha=0.7668332052637403, reg_lambda=0.33105609900392213,\n",
       "       scale_pos_weight=1, seed=None, silent=True,\n",
       "       subsample=0.9987561959826711)"
      ]
     },
     "execution_count": 181,
     "metadata": {},
     "output_type": "execute_result"
    }
   ],
   "source": [
    "xgbr_hp.fit(X_train, Y_train)"
   ]
  },
  {
   "cell_type": "code",
   "execution_count": 182,
   "metadata": {},
   "outputs": [
    {
     "data": {
      "text/plain": [
       "590.8261094277004"
      ]
     },
     "execution_count": 182,
     "metadata": {},
     "output_type": "execute_result"
    }
   ],
   "source": [
    "pred = xgbr_hp.predict(X_val)\n",
    "rmse(pred, Y_val)"
   ]
  },
  {
   "cell_type": "markdown",
   "metadata": {},
   "source": [
    "So one can see that our rmse score was about 15% lower after hyperparameter optimisation with Bayesian approach and additional penalty to the model."
   ]
  },
  {
   "cell_type": "markdown",
   "metadata": {},
   "source": [
    "## Explaining prediction of XGBoost"
   ]
  },
  {
   "cell_type": "markdown",
   "metadata": {},
   "source": [
    "From documentation:\n",
    "<br>\n",
    "\"SHAP (SHapley Additive exPlanations) is a unified approach to explain the output of any machine learning model. \n",
    "SHAP connects game theory with local explanations, \n",
    "uniting several previous methods and representing the only possible consistent and locally accurate additive feature attribution method based on expectations \n",
    "(see the SHAP NIPS paper for details).\""
   ]
  },
  {
   "cell_type": "markdown",
   "metadata": {},
   "source": [
    "In case of our XGBRegressor, feature importance was based on \"gain\", which can be understood as the average training loss reduction gained when using a feature for splitting. There two other ways to explain xgboost features (\"cover\" and \"weight\"), but results from them are usually inconsistent"
   ]
  },
  {
   "cell_type": "code",
   "execution_count": 192,
   "metadata": {},
   "outputs": [
    {
     "data": {
      "image/png": "[encoded data removed]",
      "text/plain": [
       "<Figure size 432x288 with 1 Axes>"
      ]
     },
     "metadata": {
      "needs_background": "light"
     },
     "output_type": "display_data"
    },
    {
     "data": {
      "image/png": "[encoded data removed]",
      "text/plain": [
       "<Figure size 432x288 with 1 Axes>"
      ]
     },
     "metadata": {
      "needs_background": "light"
     },
     "output_type": "display_data"
    },
    {
     "data": {
      "image/png": "[encoded data removed]",
      "text/plain": [
       "<Figure size 432x288 with 1 Axes>"
      ]
     },
     "metadata": {
      "needs_background": "light"
     },
     "output_type": "display_data"
    },
    {
     "data": {
      "image/png": "[encoded data removed]",
      "text/plain": [
       "<Figure size 432x288 with 1 Axes>"
      ]
     },
     "metadata": {
      "needs_background": "light"
     },
     "output_type": "display_data"
    },
    {
     "data": {
      "image/png": "[encoded data removed]",
      "text/plain": [
       "<Figure size 432x288 with 1 Axes>"
      ]
     },
     "metadata": {
      "needs_background": "light"
     },
     "output_type": "display_data"
    }
   ],
   "source": [
    "importance_type = ['weight', 'gain', 'cover', 'total_gain', 'total_cover']\n",
    "for importance in importance_type:\n",
    "    xgb.plot_importance(\n",
    "                        xgbr_hp,\n",
    "                        max_num_features=10, \n",
    "                        importance_type=importance, \n",
    "                        show_values=False, \n",
    "                        xlabel=\"Importance\",\n",
    "                        title=f\"Feature importance measured by {importance}\"\n",
    "                        )"
   ]
  },
  {
   "cell_type": "markdown",
   "metadata": {},
   "source": [
    "One can see that there is no consistent result in this particular case (although cpu_clock and hdd_size are the most common ones, which is not surprising)"
   ]
  },
  {
   "cell_type": "markdown",
   "metadata": {},
   "source": [
    "### Measuring importance with SHAP"
   ]
  },
  {
   "cell_type": "code",
   "execution_count": 194,
   "metadata": {},
   "outputs": [],
   "source": [
    "shap_values = shap.TreeExplainer(xgbr_hp).shap_values(X_val)\n",
    "shap_interaction_values = shap.TreeExplainer(xgbr_hp).shap_interaction_values(X_val)"
   ]
  },
  {
   "cell_type": "code",
   "execution_count": 195,
   "metadata": {},
   "outputs": [
    {
     "data": {
      "image/png": "[encoded data removed]",
      "text/plain": [
       "<Figure size 576x684 with 2 Axes>"
      ]
     },
     "metadata": {
      "needs_background": "light"
     },
     "output_type": "display_data"
    }
   ],
   "source": [
    "shap.summary_plot(shap_values, X_val)"
   ]
  },
  {
   "cell_type": "markdown",
   "metadata": {},
   "source": [
    "Ok, so it seems that piece of information about lightning in keyboard can lead to very discriminative and informative results in our model."
   ]
  },
  {
   "cell_type": "code",
   "execution_count": null,
   "metadata": {},
   "outputs": [],
   "source": []
  }
 ],
 "metadata": {
  "kernelspec": {
   "display_name": "allegroenv",
   "language": "python",
   "name": "allegroenv"
  },
  "language_info": {
   "codemirror_mode": {
    "name": "ipython",
    "version": 3
   },
   "file_extension": ".py",
   "mimetype": "text/x-python",
   "name": "python",
   "nbconvert_exporter": "python",
   "pygments_lexer": "ipython3",
   "version": "3.6.7"
  }
 },
 "nbformat": 4,
 "nbformat_minor": 2
}
