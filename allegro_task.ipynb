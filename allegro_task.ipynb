{
 "cells": [
  {
   "cell_type": "markdown",
   "metadata": {},
   "source": [
    "# Predicting price of a laptop"
   ]
  },
  {
   "cell_type": "markdown",
   "metadata": {},
   "source": [
    "# Table of contents\n",
    "1. [Introduction](#introduction)\n",
    "2. [Import](#import)\n",
    "3. [Data preprocessing](#preprocess)\n",
    "    1. [Missing values](#subpreprocess)\n",
    "4. [Correlation with dependent variable](#correlation_dependent)\n",
    "5. [Feature engineering](#feature_engineering)\n",
    "    1. [One-hot encoding](#one-hot)\n",
    "6. [Importance of variables](#importance)\n",
    "    1. [Correlation between variables with highest importance score](#correlation_importance)\n",
    "    2. [Variables selection](#variables_selection)\n",
    "7. [Scaling data](#scaling)\n",
    "8. [Train-test split](#train_test)\n",
    "9. [Base estimator - linear regression](#base_estimator)\n",
    "10. [Xgboost](#xgboost)\n",
    "11. [Summary and future plan](#summary)"
   ]
  },
  {
   "cell_type": "code",
   "execution_count": 1,
   "metadata": {},
   "outputs": [],
   "source": [
    "import pandas as pd\n",
    "import numpy as np\n",
    "import matplotlib.pyplot as plt\n",
    "import seaborn as sns\n",
    "from sklearn.linear_model import LinearRegression\n",
    "import xgboost as xgb"
   ]
  },
  {
   "cell_type": "markdown",
   "metadata": {},
   "source": [
    "Importing data from unpacked zip file"
   ]
  },
  {
   "cell_type": "code",
   "execution_count": 2,
   "metadata": {},
   "outputs": [
    {
     "data": {
      "text/plain": [
       "Index(['buynow_price', 'rodzaj karty graficznej', 'komunikacja',\n",
       "       'rozdzielczość (piksele)', 'liczba rdzeni procesora',\n",
       "       'wielkość pamięci ram', 'system operacyjny', 'typ dysku twardego',\n",
       "       'sterowanie', 'multimedia', 'typ pamięci ram',\n",
       "       'taktowanie bazowe procesora (ghz)', 'seria procesora', 'stan',\n",
       "       'pojemność dysku (gb)', 'gwarancja', 'wielkość matrycy '],\n",
       "      dtype='object')"
      ]
     },
     "execution_count": 2,
     "metadata": {},
     "output_type": "execute_result"
    }
   ],
   "source": [
    "dataset = pd.read_json(\"dane_do_wyslania/public-dataset.json\")\n",
    "dataset_test = pd.read_json(\"dane_do_wyslania/hidden-Xs.json\")\n",
    "dataset.columns"
   ]
  },
  {
   "cell_type": "markdown",
   "metadata": {},
   "source": [
    "We will look how does the dataset looks like"
   ]
  },
  {
   "cell_type": "code",
   "execution_count": 3,
   "metadata": {},
   "outputs": [
    {
     "data": {
      "text/html": [
       "<div>\n",
       "<style scoped>\n",
       "    .dataframe tbody tr th:only-of-type {\n",
       "        vertical-align: middle;\n",
       "    }\n",
       "\n",
       "    .dataframe tbody tr th {\n",
       "        vertical-align: top;\n",
       "    }\n",
       "\n",
       "    .dataframe thead th {\n",
       "        text-align: right;\n",
       "    }\n",
       "</style>\n",
       "<table border=\"1\" class=\"dataframe\">\n",
       "  <thead>\n",
       "    <tr style=\"text-align: right;\">\n",
       "      <th></th>\n",
       "      <th>index</th>\n",
       "      <th>buynow_price</th>\n",
       "      <th>rodzaj karty graficznej</th>\n",
       "      <th>komunikacja</th>\n",
       "      <th>rozdzielczość (piksele)</th>\n",
       "      <th>liczba rdzeni procesora</th>\n",
       "      <th>wielkość pamięci ram</th>\n",
       "      <th>system operacyjny</th>\n",
       "      <th>typ dysku twardego</th>\n",
       "      <th>sterowanie</th>\n",
       "      <th>multimedia</th>\n",
       "      <th>typ pamięci ram</th>\n",
       "      <th>taktowanie bazowe procesora (ghz)</th>\n",
       "      <th>seria procesora</th>\n",
       "      <th>stan</th>\n",
       "      <th>pojemność dysku (gb)</th>\n",
       "      <th>gwarancja</th>\n",
       "      <th>wielkość matrycy</th>\n",
       "    </tr>\n",
       "  </thead>\n",
       "  <tbody>\n",
       "    <tr>\n",
       "      <th>0</th>\n",
       "      <td>0</td>\n",
       "      <td>5524.0</td>\n",
       "      <td>grafika dedykowana</td>\n",
       "      <td>[bluetooth]</td>\n",
       "      <td>1920 x 1080</td>\n",
       "      <td>4</td>\n",
       "      <td>12 gb</td>\n",
       "      <td>[windows 10 home]</td>\n",
       "      <td>ssd</td>\n",
       "      <td>[klawiatura, touchpad]</td>\n",
       "      <td>[czytnik kart pamięci, kamera, głośniki]</td>\n",
       "      <td>ddr4</td>\n",
       "      <td>2.6</td>\n",
       "      <td>intel core i7</td>\n",
       "      <td>nowy</td>\n",
       "      <td>480.0</td>\n",
       "      <td>producenta</td>\n",
       "      <td>15\" - 15.9\"</td>\n",
       "    </tr>\n",
       "    <tr>\n",
       "      <th>1</th>\n",
       "      <td>10</td>\n",
       "      <td>1720.0</td>\n",
       "      <td>grafika zintegrowana</td>\n",
       "      <td>[wi-fi, bluetooth, lan 10/100 mbps]</td>\n",
       "      <td>1600 x 900</td>\n",
       "      <td>4</td>\n",
       "      <td>4 gb</td>\n",
       "      <td>[windows 10 home]</td>\n",
       "      <td>hdd</td>\n",
       "      <td>[klawiatura, touchpad, klawiatura numeryczna]</td>\n",
       "      <td>[czytnik kart pamięci, kamera, głośniki, mikro...</td>\n",
       "      <td>ddr3l</td>\n",
       "      <td>2.2</td>\n",
       "      <td>amd a8</td>\n",
       "      <td>nowy</td>\n",
       "      <td>1000.0</td>\n",
       "      <td>producenta</td>\n",
       "      <td>17\" - 17.9\"</td>\n",
       "    </tr>\n",
       "    <tr>\n",
       "      <th>2</th>\n",
       "      <td>100</td>\n",
       "      <td>2649.0</td>\n",
       "      <td>grafika zintegrowana</td>\n",
       "      <td>[wi-fi, bluetooth, lan 10/100 mbps]</td>\n",
       "      <td>1366 x 768</td>\n",
       "      <td>2</td>\n",
       "      <td>12 gb</td>\n",
       "      <td>[windows 10 home]</td>\n",
       "      <td>ssd + hdd</td>\n",
       "      <td>[klawiatura, touchpad, klawiatura numeryczna]</td>\n",
       "      <td>[czytnik kart pamięci, kamera, głośniki, mikro...</td>\n",
       "      <td>ddr4</td>\n",
       "      <td>2.3</td>\n",
       "      <td>intel core i3</td>\n",
       "      <td>nowy</td>\n",
       "      <td>1240.0</td>\n",
       "      <td>producenta</td>\n",
       "      <td>15\" - 15.9\"</td>\n",
       "    </tr>\n",
       "    <tr>\n",
       "      <th>3</th>\n",
       "      <td>1000</td>\n",
       "      <td>1199.0</td>\n",
       "      <td>grafika zintegrowana</td>\n",
       "      <td>[bluetooth]</td>\n",
       "      <td>1366 x 768</td>\n",
       "      <td>2</td>\n",
       "      <td>2 gb</td>\n",
       "      <td>[windows 10 home]</td>\n",
       "      <td>ssd</td>\n",
       "      <td>[klawiatura, touchpad]</td>\n",
       "      <td>[czytnik kart pamięci, kamera, mikrofon]</td>\n",
       "      <td>ddr3</td>\n",
       "      <td>1.6</td>\n",
       "      <td>intel celeron</td>\n",
       "      <td>nowy</td>\n",
       "      <td>128.0</td>\n",
       "      <td>producenta</td>\n",
       "      <td>11.9\" i mniej</td>\n",
       "    </tr>\n",
       "    <tr>\n",
       "      <th>4</th>\n",
       "      <td>10000</td>\n",
       "      <td>4049.0</td>\n",
       "      <td>grafika dedykowana</td>\n",
       "      <td>[lan 10/100/1000 mbps, nfc (near field communi...</td>\n",
       "      <td>1920 x 1080</td>\n",
       "      <td>2</td>\n",
       "      <td>8 gb</td>\n",
       "      <td>[windows 10 professional]</td>\n",
       "      <td>ssd</td>\n",
       "      <td>[klawiatura, touchpad]</td>\n",
       "      <td>[czytnik kart pamięci, kamera, mikrofon]</td>\n",
       "      <td>ddr4</td>\n",
       "      <td>2.7</td>\n",
       "      <td>intel core i5</td>\n",
       "      <td>nowy</td>\n",
       "      <td>256.0</td>\n",
       "      <td>producenta</td>\n",
       "      <td>15\" - 15.9\"</td>\n",
       "    </tr>\n",
       "  </tbody>\n",
       "</table>\n",
       "</div>"
      ],
      "text/plain": [
       "   index  buynow_price rodzaj karty graficznej  \\\n",
       "0      0        5524.0      grafika dedykowana   \n",
       "1     10        1720.0    grafika zintegrowana   \n",
       "2    100        2649.0    grafika zintegrowana   \n",
       "3   1000        1199.0    grafika zintegrowana   \n",
       "4  10000        4049.0      grafika dedykowana   \n",
       "\n",
       "                                         komunikacja rozdzielczość (piksele)  \\\n",
       "0                                        [bluetooth]             1920 x 1080   \n",
       "1                [wi-fi, bluetooth, lan 10/100 mbps]              1600 x 900   \n",
       "2                [wi-fi, bluetooth, lan 10/100 mbps]              1366 x 768   \n",
       "3                                        [bluetooth]              1366 x 768   \n",
       "4  [lan 10/100/1000 mbps, nfc (near field communi...             1920 x 1080   \n",
       "\n",
       "  liczba rdzeni procesora wielkość pamięci ram          system operacyjny  \\\n",
       "0                       4                12 gb          [windows 10 home]   \n",
       "1                       4                 4 gb          [windows 10 home]   \n",
       "2                       2                12 gb          [windows 10 home]   \n",
       "3                       2                 2 gb          [windows 10 home]   \n",
       "4                       2                 8 gb  [windows 10 professional]   \n",
       "\n",
       "  typ dysku twardego                                     sterowanie  \\\n",
       "0                ssd                         [klawiatura, touchpad]   \n",
       "1                hdd  [klawiatura, touchpad, klawiatura numeryczna]   \n",
       "2          ssd + hdd  [klawiatura, touchpad, klawiatura numeryczna]   \n",
       "3                ssd                         [klawiatura, touchpad]   \n",
       "4                ssd                         [klawiatura, touchpad]   \n",
       "\n",
       "                                          multimedia typ pamięci ram  \\\n",
       "0           [czytnik kart pamięci, kamera, głośniki]            ddr4   \n",
       "1  [czytnik kart pamięci, kamera, głośniki, mikro...           ddr3l   \n",
       "2  [czytnik kart pamięci, kamera, głośniki, mikro...            ddr4   \n",
       "3           [czytnik kart pamięci, kamera, mikrofon]            ddr3   \n",
       "4           [czytnik kart pamięci, kamera, mikrofon]            ddr4   \n",
       "\n",
       "   taktowanie bazowe procesora (ghz) seria procesora  stan  \\\n",
       "0                                2.6   intel core i7  nowy   \n",
       "1                                2.2          amd a8  nowy   \n",
       "2                                2.3   intel core i3  nowy   \n",
       "3                                1.6  intel celeron   nowy   \n",
       "4                                2.7   intel core i5  nowy   \n",
       "\n",
       "   pojemność dysku (gb)   gwarancja wielkość matrycy   \n",
       "0                 480.0  producenta       15\" - 15.9\"  \n",
       "1                1000.0  producenta       17\" - 17.9\"  \n",
       "2                1240.0  producenta       15\" - 15.9\"  \n",
       "3                 128.0  producenta     11.9\" i mniej  \n",
       "4                 256.0  producenta       15\" - 15.9\"  "
      ]
     },
     "execution_count": 3,
     "metadata": {},
     "output_type": "execute_result"
    }
   ],
   "source": [
    "dataset.reset_index().head(5)"
   ]
  },
  {
   "cell_type": "code",
   "execution_count": 4,
   "metadata": {},
   "outputs": [
    {
     "data": {
      "text/html": [
       "<div>\n",
       "<style scoped>\n",
       "    .dataframe tbody tr th:only-of-type {\n",
       "        vertical-align: middle;\n",
       "    }\n",
       "\n",
       "    .dataframe tbody tr th {\n",
       "        vertical-align: top;\n",
       "    }\n",
       "\n",
       "    .dataframe thead th {\n",
       "        text-align: right;\n",
       "    }\n",
       "</style>\n",
       "<table border=\"1\" class=\"dataframe\">\n",
       "  <thead>\n",
       "    <tr style=\"text-align: right;\">\n",
       "      <th></th>\n",
       "      <th>rodzaj karty graficznej</th>\n",
       "      <th>komunikacja</th>\n",
       "      <th>rozdzielczość (piksele)</th>\n",
       "      <th>liczba rdzeni procesora</th>\n",
       "      <th>wielkość pamięci ram</th>\n",
       "      <th>system operacyjny</th>\n",
       "      <th>typ dysku twardego</th>\n",
       "      <th>sterowanie</th>\n",
       "      <th>multimedia</th>\n",
       "      <th>typ pamięci ram</th>\n",
       "      <th>taktowanie bazowe procesora (ghz)</th>\n",
       "      <th>seria procesora</th>\n",
       "      <th>stan</th>\n",
       "      <th>pojemność dysku (gb)</th>\n",
       "      <th>gwarancja</th>\n",
       "      <th>wielkość matrycy</th>\n",
       "    </tr>\n",
       "  </thead>\n",
       "  <tbody>\n",
       "    <tr>\n",
       "      <th>1</th>\n",
       "      <td>grafika zintegrowana</td>\n",
       "      <td>None</td>\n",
       "      <td>1366 x 768</td>\n",
       "      <td>2</td>\n",
       "      <td>4 gb</td>\n",
       "      <td>[windows 8.1 professional 64-bit]</td>\n",
       "      <td>hdd</td>\n",
       "      <td>[klawiatura, touchpad]</td>\n",
       "      <td>[czytnik kart pamięci, kamera, głośniki, mikro...</td>\n",
       "      <td>None</td>\n",
       "      <td>2.4</td>\n",
       "      <td>intel core i3</td>\n",
       "      <td>nowy</td>\n",
       "      <td>500.0</td>\n",
       "      <td>producenta</td>\n",
       "      <td>15\" - 15.9\"</td>\n",
       "    </tr>\n",
       "    <tr>\n",
       "      <th>10002</th>\n",
       "      <td>grafika zintegrowana</td>\n",
       "      <td>[bluetooth]</td>\n",
       "      <td>1920 x 1080</td>\n",
       "      <td>2</td>\n",
       "      <td>8 gb</td>\n",
       "      <td>[windows 10 home]</td>\n",
       "      <td>ssd</td>\n",
       "      <td>[klawiatura, touchpad]</td>\n",
       "      <td>[kamera, głośniki, mikrofon]</td>\n",
       "      <td>ddr4</td>\n",
       "      <td>2.5</td>\n",
       "      <td>intel core i5</td>\n",
       "      <td>nowy</td>\n",
       "      <td>256.0</td>\n",
       "      <td>producenta</td>\n",
       "      <td>13\" - 13.9\"</td>\n",
       "    </tr>\n",
       "    <tr>\n",
       "      <th>10003</th>\n",
       "      <td>None</td>\n",
       "      <td>[wi-fi, bluetooth, lan 10/100 mbps]</td>\n",
       "      <td>1366 x 768</td>\n",
       "      <td>4</td>\n",
       "      <td>4 gb</td>\n",
       "      <td>[windows 7 professional 64-bit]</td>\n",
       "      <td>None</td>\n",
       "      <td>[klawiatura, touchpad, klawiatura numeryczna]</td>\n",
       "      <td>[czytnik kart pamięci, kamera, głośniki, mikro...</td>\n",
       "      <td>ddr3l</td>\n",
       "      <td>1.8</td>\n",
       "      <td>amd a6</td>\n",
       "      <td>nowy</td>\n",
       "      <td>120.0</td>\n",
       "      <td>producenta</td>\n",
       "      <td>15\" - 15.9\"</td>\n",
       "    </tr>\n",
       "    <tr>\n",
       "      <th>10004</th>\n",
       "      <td>grafika dedykowana</td>\n",
       "      <td>[wi-fi, bluetooth, lan 10/100 mbps]</td>\n",
       "      <td>1600 x 900</td>\n",
       "      <td>2</td>\n",
       "      <td>12 gb</td>\n",
       "      <td>[windows 10 home]</td>\n",
       "      <td>ssd</td>\n",
       "      <td>[klawiatura, touchpad, klawiatura numeryczna]</td>\n",
       "      <td>[czytnik kart pamięci, kamera, głośniki, mikro...</td>\n",
       "      <td>ddr4</td>\n",
       "      <td>2.5</td>\n",
       "      <td>intel core i5</td>\n",
       "      <td>nowy</td>\n",
       "      <td>480.0</td>\n",
       "      <td>producenta</td>\n",
       "      <td>17\" - 17.9\"</td>\n",
       "    </tr>\n",
       "    <tr>\n",
       "      <th>10005</th>\n",
       "      <td>grafika zintegrowana</td>\n",
       "      <td>[wi-fi, bluetooth, lan 10/100 mbps]</td>\n",
       "      <td>1366 x 768</td>\n",
       "      <td>4</td>\n",
       "      <td>8 gb</td>\n",
       "      <td>[windows 10 professional]</td>\n",
       "      <td>hdd</td>\n",
       "      <td>[klawiatura, touchpad, klawiatura numeryczna]</td>\n",
       "      <td>[czytnik kart pamięci, kamera, głośniki, mikro...</td>\n",
       "      <td>ddr3l</td>\n",
       "      <td>1.8</td>\n",
       "      <td>amd a6</td>\n",
       "      <td>nowy</td>\n",
       "      <td>1000.0</td>\n",
       "      <td>producenta</td>\n",
       "      <td>15\" - 15.9\"</td>\n",
       "    </tr>\n",
       "  </tbody>\n",
       "</table>\n",
       "</div>"
      ],
      "text/plain": [
       "      rodzaj karty graficznej                          komunikacja  \\\n",
       "1        grafika zintegrowana                                 None   \n",
       "10002    grafika zintegrowana                          [bluetooth]   \n",
       "10003                    None  [wi-fi, bluetooth, lan 10/100 mbps]   \n",
       "10004      grafika dedykowana  [wi-fi, bluetooth, lan 10/100 mbps]   \n",
       "10005    grafika zintegrowana  [wi-fi, bluetooth, lan 10/100 mbps]   \n",
       "\n",
       "      rozdzielczość (piksele) liczba rdzeni procesora wielkość pamięci ram  \\\n",
       "1                  1366 x 768                       2                 4 gb   \n",
       "10002             1920 x 1080                       2                 8 gb   \n",
       "10003              1366 x 768                       4                 4 gb   \n",
       "10004              1600 x 900                       2                12 gb   \n",
       "10005              1366 x 768                       4                 8 gb   \n",
       "\n",
       "                       system operacyjny typ dysku twardego  \\\n",
       "1      [windows 8.1 professional 64-bit]                hdd   \n",
       "10002                  [windows 10 home]                ssd   \n",
       "10003    [windows 7 professional 64-bit]               None   \n",
       "10004                  [windows 10 home]                ssd   \n",
       "10005          [windows 10 professional]                hdd   \n",
       "\n",
       "                                          sterowanie  \\\n",
       "1                             [klawiatura, touchpad]   \n",
       "10002                         [klawiatura, touchpad]   \n",
       "10003  [klawiatura, touchpad, klawiatura numeryczna]   \n",
       "10004  [klawiatura, touchpad, klawiatura numeryczna]   \n",
       "10005  [klawiatura, touchpad, klawiatura numeryczna]   \n",
       "\n",
       "                                              multimedia typ pamięci ram  \\\n",
       "1      [czytnik kart pamięci, kamera, głośniki, mikro...            None   \n",
       "10002                       [kamera, głośniki, mikrofon]            ddr4   \n",
       "10003  [czytnik kart pamięci, kamera, głośniki, mikro...           ddr3l   \n",
       "10004  [czytnik kart pamięci, kamera, głośniki, mikro...            ddr4   \n",
       "10005  [czytnik kart pamięci, kamera, głośniki, mikro...           ddr3l   \n",
       "\n",
       "       taktowanie bazowe procesora (ghz) seria procesora  stan  \\\n",
       "1                                    2.4   intel core i3  nowy   \n",
       "10002                                2.5   intel core i5  nowy   \n",
       "10003                                1.8          amd a6  nowy   \n",
       "10004                                2.5   intel core i5  nowy   \n",
       "10005                                1.8          amd a6  nowy   \n",
       "\n",
       "       pojemność dysku (gb)   gwarancja wielkość matrycy   \n",
       "1                     500.0  producenta       15\" - 15.9\"  \n",
       "10002                 256.0  producenta       13\" - 13.9\"  \n",
       "10003                 120.0  producenta       15\" - 15.9\"  \n",
       "10004                 480.0  producenta       17\" - 17.9\"  \n",
       "10005                1000.0  producenta       15\" - 15.9\"  "
      ]
     },
     "execution_count": 4,
     "metadata": {},
     "output_type": "execute_result"
    }
   ],
   "source": [
    "dataset_test.head(5)"
   ]
  },
  {
   "cell_type": "code",
   "execution_count": 5,
   "metadata": {},
   "outputs": [
    {
     "data": {
      "text/plain": [
       "(3869, 16)"
      ]
     },
     "execution_count": 5,
     "metadata": {},
     "output_type": "execute_result"
    }
   ],
   "source": [
    "dataset_test.shape"
   ]
  },
  {
   "cell_type": "code",
   "execution_count": 6,
   "metadata": {},
   "outputs": [
    {
     "name": "stdout",
     "output_type": "stream",
     "text": [
      "(7853, 17)\n",
      "buynow_price                         float64\n",
      "rodzaj karty graficznej               object\n",
      "komunikacja                           object\n",
      "rozdzielczość (piksele)               object\n",
      "liczba rdzeni procesora               object\n",
      "wielkość pamięci ram                  object\n",
      "system operacyjny                     object\n",
      "typ dysku twardego                    object\n",
      "sterowanie                            object\n",
      "multimedia                            object\n",
      "typ pamięci ram                       object\n",
      "taktowanie bazowe procesora (ghz)    float64\n",
      "seria procesora                       object\n",
      "stan                                  object\n",
      "pojemność dysku (gb)                 float64\n",
      "gwarancja                             object\n",
      "wielkość matrycy                      object\n",
      "dtype: object\n"
     ]
    }
   ],
   "source": [
    "print(dataset.shape, dataset.dtypes, sep = '\\n')"
   ]
  },
  {
   "cell_type": "markdown",
   "metadata": {},
   "source": [
    "So, we have less than 8K records with 17 features. What we can already observe from preliminiary look at the data is the fact that most of them are categorical variables, however not all of the categories differ in the same way. \n",
    "For example \"rozdzielczość (piksele)\" and \"wielkość pamięci ram\" features have some order associated with them. Those are called ordinal features. On the other hand we have \"typ dysku twardego\" or \"sterowanie\" which are categorical features. There are also variables which can be considered purely categorical, such as \"seria procesora\", however it may be possible to tell which series of the processors have better performance in general (like superior performance of i7 series as compared to i5 series). One can think of possible arguments in AMD vs Intel competition that could be revealed during this task :)"
   ]
  },
  {
   "cell_type": "markdown",
   "metadata": {},
   "source": [
    "We are going to check whether there are some missing values in dataset"
   ]
  },
  {
   "cell_type": "code",
   "execution_count": 7,
   "metadata": {},
   "outputs": [],
   "source": [
    "def missing_values(data):\n",
    "    missing = data.isnull().sum()\n",
    "    percent = data.isnull().sum()/data.isnull().count()\n",
    "    data_missing = pd.concat([missing, percent], axis=1, keys=['Total', 'Percent'], sort=True).sort_values(by='Total', ascending=False)\n",
    "    print(data_missing.head(6))\n",
    "    return data_missing"
   ]
  },
  {
   "cell_type": "markdown",
   "metadata": {},
   "source": [
    "And the plot all of these variables that contain some missing part"
   ]
  },
  {
   "cell_type": "code",
   "execution_count": 8,
   "metadata": {},
   "outputs": [],
   "source": [
    "def plot_missing_values(data_missing, title=\"Title\"):\n",
    "    fig, ax = plt.subplots(ncols=1, nrows=1, figsize=(8,6))\n",
    "    sns.barplot(data=data_missing[data_missing['Percent'] >0].reset_index(), x = 'index', \n",
    "                y='Percent')\n",
    "    plt.xticks(rotation=70)\n",
    "    plt.title(title)\n",
    "    plt.show()"
   ]
  },
  {
   "cell_type": "code",
   "execution_count": 9,
   "metadata": {},
   "outputs": [
    {
     "name": "stdout",
     "output_type": "stream",
     "text": [
      "                                   Total   Percent\n",
      "taktowanie bazowe procesora (ghz)    936  0.119190\n",
      "typ pamięci ram                      864  0.110022\n",
      "komunikacja                          782  0.099580\n",
      "multimedia                           708  0.090157\n",
      "sterowanie                           678  0.086336\n",
      "system operacyjny                    650  0.082771\n"
     ]
    },
    {
     "data": {
      "image/png": "[encoded data removed]",
      "text/plain": [
       "<Figure size 576x432 with 1 Axes>"
      ]
     },
     "metadata": {
      "needs_background": "light"
     },
     "output_type": "display_data"
    }
   ],
   "source": [
    "plot_missing_values(missing_values(dataset),\"Percentage of missing data by variable in training set\")"
   ]
  },
  {
   "cell_type": "code",
   "execution_count": 10,
   "metadata": {},
   "outputs": [
    {
     "name": "stdout",
     "output_type": "stream",
     "text": [
      "                                   Total   Percent\n",
      "taktowanie bazowe procesora (ghz)    451  0.116568\n",
      "typ pamięci ram                      415  0.107263\n",
      "komunikacja                          401  0.103644\n",
      "multimedia                           356  0.092013\n",
      "sterowanie                           332  0.085810\n",
      "system operacyjny                    322  0.083226\n"
     ]
    },
    {
     "data": {
      "image/png": "[encoded data removed]",
      "text/plain": [
       "<Figure size 576x432 with 1 Axes>"
      ]
     },
     "metadata": {
      "needs_background": "light"
     },
     "output_type": "display_data"
    }
   ],
   "source": [
    "plot_missing_values(missing_values(dataset_test),\"Percentage of missing data by variable in test set\")"
   ]
  },
  {
   "cell_type": "markdown",
   "metadata": {},
   "source": [
    "So one can see that the distribution of missing values is quite similar both in training and test set"
   ]
  },
  {
   "cell_type": "markdown",
   "metadata": {},
   "source": [
    "## Comparing distribution of features of training and test test"
   ]
  },
  {
   "cell_type": "markdown",
   "metadata": {},
   "source": []
  },
  {
   "cell_type": "markdown",
   "metadata": {},
   "source": [
    "## Imputation of missing values"
   ]
  },
  {
   "cell_type": "code",
   "execution_count": null,
   "metadata": {},
   "outputs": [],
   "source": []
  },
  {
   "cell_type": "code",
   "execution_count": null,
   "metadata": {},
   "outputs": [],
   "source": []
  }
 ],
 "metadata": {
  "kernelspec": {
   "display_name": "allegroenv",
   "language": "python",
   "name": "allegroenv"
  },
  "language_info": {
   "codemirror_mode": {
    "name": "ipython",
    "version": 3
   },
   "file_extension": ".py",
   "mimetype": "text/x-python",
   "name": "python",
   "nbconvert_exporter": "python",
   "pygments_lexer": "ipython3",
   "version": "3.6.7"
  }
 },
 "nbformat": 4,
 "nbformat_minor": 2
}
